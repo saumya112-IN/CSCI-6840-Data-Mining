{
 "cells": [
  {
   "metadata": {
    "ExecuteTime": {
     "end_time": "2024-04-14T21:04:41.661248Z",
     "start_time": "2024-04-14T21:04:41.314341Z"
    }
   },
   "cell_type": "code",
   "source": [
    "%matplotlib inline\n",
    "import h5pyd\n",
    "import numpy as np\n",
    "import pandas as pd\n",
    "import matplotlib.pyplot as plt\n",
    "import matplotlib.image as mpimg\n",
    "from scipy.spatial import cKDTree"
   ],
   "id": "f3189f142cd73c0d",
   "outputs": [],
   "execution_count": 1
  },
  {
   "metadata": {},
   "cell_type": "markdown",
   "source": [
    "## Get file from NSRDB\n",
    "\n",
    "Following examples from notebooks here: https://github.com/NREL/hsds-examples/blob/master/notebooks/03_NSRDB_introduction.ipynb\n",
    "\n",
    "For more information on what data is available from the files, see the NSRDB documentation @ NREL: https://developer.nrel.gov/docs/\n",
    "\n",
    "Actual documentation on how to use the h5py dataset object: https://docs.h5py.org/en/stable/quick.html#quick"
   ],
   "id": "91eb35f20ae0ec2f"
  },
  {
   "metadata": {},
   "cell_type": "markdown",
   "source": [
    "\n",
    "For this to work you must first install h5pyd:\n",
    "\n",
    "pip install --user h5pyd\n",
    "Next you'll need to configure HSDS:\n",
    "\n",
    "    `hsconfigure`\n",
    "and enter at the prompt:\n",
    "\n",
    "    hs_endpoint = https://developer.nrel.gov/api/hsds\n",
    "    hs_username = None\n",
    "    hs_password = None\n",
    "        hs_api_key = ul1bgjdq34XTFiAN4rOh8eadBuJhUtsaEFMyWoJr\n",
    "    The example API key here is for demonstation and is rate-limited per IP. To get your own API key, visit https://developer.nrel.gov/signup/\n",
    "\n",
    "You can also add the above contents to a configuration file at ~/.hscfg\n",
    "\n",
    "Or they can be passed in like as we've done below."
   ],
   "id": "8ec7a2d64e58d4dc"
  },
  {
   "metadata": {
    "ExecuteTime": {
     "end_time": "2024-04-14T21:14:21.515356Z",
     "start_time": "2024-04-14T21:14:19.998299Z"
    }
   },
   "cell_type": "code",
   "source": [
    "# Open the desired year of nsrdb data\n",
    "# server endpoint, username, password is found via a config file\n",
    "f = h5pyd.File(\"/nrel/nsrdb/v3/nsrdb_2008.h5\", 'r', 'https://developer.nrel.gov/api/hsds', None, None, None, 'ul1bgjdq34XTFiAN4rOh8eadBuJhUtsaEFMyWoJr')"
   ],
   "id": "52a1d64b614b2c3b",
   "outputs": [],
   "execution_count": 17
  },
  {
   "metadata": {
    "ExecuteTime": {
     "end_time": "2024-04-14T21:04:44.902474Z",
     "start_time": "2024-04-14T21:04:44.898330Z"
    }
   },
   "cell_type": "code",
   "source": "list(f.attrs)  # list attributes belonging to the root group",
   "id": "1f2236452bd17591",
   "outputs": [
    {
     "data": {
      "text/plain": [
       "['Version']"
      ]
     },
     "execution_count": 3,
     "metadata": {},
     "output_type": "execute_result"
    }
   ],
   "execution_count": 3
  },
  {
   "metadata": {
    "ExecuteTime": {
     "end_time": "2024-04-14T21:04:46.930774Z",
     "start_time": "2024-04-14T21:04:46.927335Z"
    }
   },
   "cell_type": "code",
   "source": "f.attrs['Version']   # attributes can be used to provide desriptions of the content",
   "id": "f280254bc6ea13a9",
   "outputs": [
    {
     "data": {
      "text/plain": [
       "'3.0.6'"
      ]
     },
     "execution_count": 4,
     "metadata": {},
     "output_type": "execute_result"
    }
   ],
   "execution_count": 4
  },
  {
   "metadata": {},
   "cell_type": "markdown",
   "source": "## Data Sets",
   "id": "71907c107d9ece9d"
  },
  {
   "metadata": {
    "ExecuteTime": {
     "end_time": "2024-04-14T21:04:48.464883Z",
     "start_time": "2024-04-14T21:04:48.460882Z"
    }
   },
   "cell_type": "code",
   "source": "list(f)  # list the datasets in the file",
   "id": "8cb6c09cd3593fe5",
   "outputs": [
    {
     "data": {
      "text/plain": [
       "['air_temperature',\n",
       " 'alpha',\n",
       " 'aod',\n",
       " 'asymmetry',\n",
       " 'cld_opd_dcomp',\n",
       " 'cld_reff_dcomp',\n",
       " 'clearsky_dhi',\n",
       " 'clearsky_dni',\n",
       " 'clearsky_ghi',\n",
       " 'cloud_press_acha',\n",
       " 'cloud_type',\n",
       " 'coordinates',\n",
       " 'dew_point',\n",
       " 'dhi',\n",
       " 'dni',\n",
       " 'fill_flag',\n",
       " 'ghi',\n",
       " 'meta',\n",
       " 'ozone',\n",
       " 'relative_humidity',\n",
       " 'solar_zenith_angle',\n",
       " 'ssa',\n",
       " 'surface_albedo',\n",
       " 'surface_pressure',\n",
       " 'time_index',\n",
       " 'total_precipitable_water',\n",
       " 'wind_direction',\n",
       " 'wind_speed']"
      ]
     },
     "execution_count": 5,
     "metadata": {},
     "output_type": "execute_result"
    }
   ],
   "execution_count": 5
  },
  {
   "metadata": {
    "ExecuteTime": {
     "end_time": "2024-04-14T21:14:34.693466Z",
     "start_time": "2024-04-14T21:14:26.750527Z"
    }
   },
   "cell_type": "code",
   "source": [
    "# Full resolution subset of California\n",
    "meta = pd.DataFrame(f['meta'][...])\n",
    "CA = meta.loc[meta['state'] == b'California'] # Note .h5 saves strings as bit-strings\n",
    "CA.head()"
   ],
   "id": "ac5e64c2f0577857",
   "outputs": [
    {
     "data": {
      "text/plain": [
       "        latitude   longitude   elevation  timezone           country  \\\n",
       "70276  32.529999 -117.099998   55.062500        -8  b'United States'   \n",
       "70588  32.570000 -117.099998    7.100000        -8  b'United States'   \n",
       "70589  32.570000 -117.059998   24.920000        -8  b'United States'   \n",
       "70590  32.570000 -117.019997   96.599998        -8  b'United States'   \n",
       "70591  32.570000 -116.980003  140.600006        -8  b'United States'   \n",
       "\n",
       "               state        county       urban  population  landcover  \n",
       "70276  b'California'  b'San Diego'     b'None'       32326        130  \n",
       "70588  b'California'  b'San Diego'  b'Tijuana'       27971        190  \n",
       "70589  b'California'  b'San Diego'  b'Tijuana'       51608        190  \n",
       "70590  b'California'  b'San Diego'  b'Tijuana'       15236        110  \n",
       "70591  b'California'  b'San Diego'  b'Tijuana'        2949        130  "
      ],
      "text/html": [
       "<div>\n",
       "<style scoped>\n",
       "    .dataframe tbody tr th:only-of-type {\n",
       "        vertical-align: middle;\n",
       "    }\n",
       "\n",
       "    .dataframe tbody tr th {\n",
       "        vertical-align: top;\n",
       "    }\n",
       "\n",
       "    .dataframe thead th {\n",
       "        text-align: right;\n",
       "    }\n",
       "</style>\n",
       "<table border=\"1\" class=\"dataframe\">\n",
       "  <thead>\n",
       "    <tr style=\"text-align: right;\">\n",
       "      <th></th>\n",
       "      <th>latitude</th>\n",
       "      <th>longitude</th>\n",
       "      <th>elevation</th>\n",
       "      <th>timezone</th>\n",
       "      <th>country</th>\n",
       "      <th>state</th>\n",
       "      <th>county</th>\n",
       "      <th>urban</th>\n",
       "      <th>population</th>\n",
       "      <th>landcover</th>\n",
       "    </tr>\n",
       "  </thead>\n",
       "  <tbody>\n",
       "    <tr>\n",
       "      <th>70276</th>\n",
       "      <td>32.529999</td>\n",
       "      <td>-117.099998</td>\n",
       "      <td>55.062500</td>\n",
       "      <td>-8</td>\n",
       "      <td>b'United States'</td>\n",
       "      <td>b'California'</td>\n",
       "      <td>b'San Diego'</td>\n",
       "      <td>b'None'</td>\n",
       "      <td>32326</td>\n",
       "      <td>130</td>\n",
       "    </tr>\n",
       "    <tr>\n",
       "      <th>70588</th>\n",
       "      <td>32.570000</td>\n",
       "      <td>-117.099998</td>\n",
       "      <td>7.100000</td>\n",
       "      <td>-8</td>\n",
       "      <td>b'United States'</td>\n",
       "      <td>b'California'</td>\n",
       "      <td>b'San Diego'</td>\n",
       "      <td>b'Tijuana'</td>\n",
       "      <td>27971</td>\n",
       "      <td>190</td>\n",
       "    </tr>\n",
       "    <tr>\n",
       "      <th>70589</th>\n",
       "      <td>32.570000</td>\n",
       "      <td>-117.059998</td>\n",
       "      <td>24.920000</td>\n",
       "      <td>-8</td>\n",
       "      <td>b'United States'</td>\n",
       "      <td>b'California'</td>\n",
       "      <td>b'San Diego'</td>\n",
       "      <td>b'Tijuana'</td>\n",
       "      <td>51608</td>\n",
       "      <td>190</td>\n",
       "    </tr>\n",
       "    <tr>\n",
       "      <th>70590</th>\n",
       "      <td>32.570000</td>\n",
       "      <td>-117.019997</td>\n",
       "      <td>96.599998</td>\n",
       "      <td>-8</td>\n",
       "      <td>b'United States'</td>\n",
       "      <td>b'California'</td>\n",
       "      <td>b'San Diego'</td>\n",
       "      <td>b'Tijuana'</td>\n",
       "      <td>15236</td>\n",
       "      <td>110</td>\n",
       "    </tr>\n",
       "    <tr>\n",
       "      <th>70591</th>\n",
       "      <td>32.570000</td>\n",
       "      <td>-116.980003</td>\n",
       "      <td>140.600006</td>\n",
       "      <td>-8</td>\n",
       "      <td>b'United States'</td>\n",
       "      <td>b'California'</td>\n",
       "      <td>b'San Diego'</td>\n",
       "      <td>b'Tijuana'</td>\n",
       "      <td>2949</td>\n",
       "      <td>130</td>\n",
       "    </tr>\n",
       "  </tbody>\n",
       "</table>\n",
       "</div>"
      ]
     },
     "execution_count": 18,
     "metadata": {},
     "output_type": "execute_result"
    }
   ],
   "execution_count": 18
  },
  {
   "metadata": {
    "ExecuteTime": {
     "end_time": "2024-04-14T21:14:38.691732Z",
     "start_time": "2024-04-14T21:14:38.321486Z"
    }
   },
   "cell_type": "code",
   "source": [
    "# Extract datetime index for datasets\n",
    "time_index = pd.to_datetime(f['time_index'][...].astype(str))\n",
    "time_index"
   ],
   "id": "62b4fd10195cfcc6",
   "outputs": [
    {
     "data": {
      "text/plain": [
       "DatetimeIndex(['2008-01-01 00:00:00', '2008-01-01 00:30:00',\n",
       "               '2008-01-01 01:00:00', '2008-01-01 01:30:00',\n",
       "               '2008-01-01 02:00:00', '2008-01-01 02:30:00',\n",
       "               '2008-01-01 03:00:00', '2008-01-01 03:30:00',\n",
       "               '2008-01-01 04:00:00', '2008-01-01 04:30:00',\n",
       "               ...\n",
       "               '2008-12-31 19:00:00', '2008-12-31 19:30:00',\n",
       "               '2008-12-31 20:00:00', '2008-12-31 20:30:00',\n",
       "               '2008-12-31 21:00:00', '2008-12-31 21:30:00',\n",
       "               '2008-12-31 22:00:00', '2008-12-31 22:30:00',\n",
       "               '2008-12-31 23:00:00', '2008-12-31 23:30:00'],\n",
       "              dtype='datetime64[ns]', length=17568, freq=None)"
      ]
     },
     "execution_count": 19,
     "metadata": {},
     "output_type": "execute_result"
    }
   ],
   "execution_count": 19
  },
  {
   "metadata": {
    "ExecuteTime": {
     "end_time": "2024-04-14T21:34:29.290621Z",
     "start_time": "2024-04-14T21:34:29.286415Z"
    }
   },
   "cell_type": "code",
   "source": [
    "condition = (time_index == '2008-01-01 12:00:00')\n",
    "timestep = np.where(condition)[0][0]\n",
    "timestep"
   ],
   "id": "c68ebdc3e0bd2d7a",
   "outputs": [
    {
     "data": {
      "text/plain": [
       "24"
      ]
     },
     "execution_count": 42,
     "metadata": {},
     "output_type": "execute_result"
    }
   ],
   "execution_count": 42
  },
  {
   "metadata": {
    "ExecuteTime": {
     "end_time": "2024-04-14T21:11:10.073128Z",
     "start_time": "2024-04-14T21:11:10.070054Z"
    }
   },
   "cell_type": "code",
   "source": [
    "# geolocation coordinates\n",
    "coordinates_dset = f['coordinates']\n",
    "\n",
    "# y axis\n",
    "global_horizontal_irradiance_dset = f['ghi']\n",
    "\n",
    "# x axes\n",
    "air_temperature_dset = f['air_temperature']\n",
    "relative_humidity_dset = f['relative_humidity']\n",
    "cloud_optical_depth_dset = f['cld_opd_dcomp']\n",
    "cloud_effective_radius_dset = f['cld_reff_dcomp']\n",
    "cloud_type_dset = f['cloud_type']"
   ],
   "id": "a0ae1a52c7529763",
   "outputs": [],
   "execution_count": 13
  },
  {
   "metadata": {
    "ExecuteTime": {
     "end_time": "2024-04-14T21:35:49.394720Z",
     "start_time": "2024-04-14T21:34:47.750441Z"
    }
   },
   "cell_type": "code",
   "source": "%time data = global_horizontal_irradiance_dset[timestep][CA.index]  # full-resolution subset",
   "id": "46b3919c92e364f4",
   "outputs": [
    {
     "ename": "OSError",
     "evalue": "Error retrieving data: None",
     "output_type": "error",
     "traceback": [
      "\u001B[1;31m---------------------------------------------------------------------------\u001B[0m",
      "\u001B[1;31mOSError\u001B[0m                                   Traceback (most recent call last)",
      "File \u001B[1;32mC:\\ProgramData\\anaconda3\\Lib\\site-packages\\h5pyd\\_hl\\dataset.py:1160\u001B[0m, in \u001B[0;36mDataset.__getitem__\u001B[1;34m(self, args, new_dtype)\u001B[0m\n\u001B[0;32m   1159\u001B[0m \u001B[38;5;28;01mtry\u001B[39;00m:\n\u001B[1;32m-> 1160\u001B[0m     rsp \u001B[38;5;241m=\u001B[39m \u001B[38;5;28mself\u001B[39m\u001B[38;5;241m.\u001B[39mGET(req, params\u001B[38;5;241m=\u001B[39mparams, \u001B[38;5;28mformat\u001B[39m\u001B[38;5;241m=\u001B[39m\u001B[38;5;124m\"\u001B[39m\u001B[38;5;124mbinary\u001B[39m\u001B[38;5;124m\"\u001B[39m)\n\u001B[0;32m   1161\u001B[0m \u001B[38;5;28;01mexcept\u001B[39;00m \u001B[38;5;167;01mIOError\u001B[39;00m \u001B[38;5;28;01mas\u001B[39;00m ioe:\n",
      "File \u001B[1;32mC:\\ProgramData\\anaconda3\\Lib\\site-packages\\h5pyd\\_hl\\base.py:981\u001B[0m, in \u001B[0;36mHLObject.GET\u001B[1;34m(self, req, params, use_cache, format)\u001B[0m\n\u001B[0;32m    980\u001B[0m \u001B[38;5;28;01mif\u001B[39;00m \u001B[38;5;28mlen\u001B[39m(http_chunks) \u001B[38;5;241m==\u001B[39m \u001B[38;5;241m0\u001B[39m:\n\u001B[1;32m--> 981\u001B[0m     \u001B[38;5;28;01mraise\u001B[39;00m \u001B[38;5;167;01mIOError\u001B[39;00m(\u001B[38;5;124m\"\u001B[39m\u001B[38;5;124mno data returned\u001B[39m\u001B[38;5;124m\"\u001B[39m)\n\u001B[0;32m    982\u001B[0m \u001B[38;5;28;01mif\u001B[39;00m \u001B[38;5;28mlen\u001B[39m(http_chunks) \u001B[38;5;241m==\u001B[39m \u001B[38;5;241m1\u001B[39m:\n\u001B[0;32m    983\u001B[0m     \u001B[38;5;66;03m# can return first and only chunk as response\u001B[39;00m\n",
      "\u001B[1;31mOSError\u001B[0m: no data returned",
      "\nDuring handling of the above exception, another exception occurred:\n",
      "\u001B[1;31mOSError\u001B[0m                                   Traceback (most recent call last)",
      "File \u001B[1;32m<timed exec>:1\u001B[0m\n",
      "File \u001B[1;32mC:\\ProgramData\\anaconda3\\Lib\\site-packages\\h5pyd\\_hl\\dataset.py:1169\u001B[0m, in \u001B[0;36mDataset.__getitem__\u001B[1;34m(self, args, new_dtype)\u001B[0m\n\u001B[0;32m   1167\u001B[0m         \u001B[38;5;28;01mbreak\u001B[39;00m\n\u001B[0;32m   1168\u001B[0m     \u001B[38;5;28;01melse\u001B[39;00m:\n\u001B[1;32m-> 1169\u001B[0m         \u001B[38;5;28;01mraise\u001B[39;00m \u001B[38;5;167;01mIOError\u001B[39;00m(\u001B[38;5;124mf\u001B[39m\u001B[38;5;124m\"\u001B[39m\u001B[38;5;124mError retrieving data: \u001B[39m\u001B[38;5;132;01m{\u001B[39;00mioe\u001B[38;5;241m.\u001B[39merrno\u001B[38;5;132;01m}\u001B[39;00m\u001B[38;5;124m\"\u001B[39m)\n\u001B[0;32m   1170\u001B[0m \u001B[38;5;28;01mif\u001B[39;00m \u001B[38;5;28misinstance\u001B[39m(rsp, \u001B[38;5;28mstr\u001B[39m):\n\u001B[0;32m   1171\u001B[0m     \u001B[38;5;66;03m# hexencoded response?\u001B[39;00m\n\u001B[0;32m   1172\u001B[0m     \u001B[38;5;66;03m# this is returned by API Gateway for lamba responses\u001B[39;00m\n\u001B[0;32m   1173\u001B[0m     rsp \u001B[38;5;241m=\u001B[39m \u001B[38;5;28mbytes\u001B[39m\u001B[38;5;241m.\u001B[39mfromhex(rsp)\n",
      "\u001B[1;31mOSError\u001B[0m: Error retrieving data: None"
     ]
    }
   ],
   "execution_count": 43
  },
  {
   "metadata": {
    "ExecuteTime": {
     "end_time": "2024-04-14T21:13:43.977994Z",
     "start_time": "2024-04-14T21:13:43.973444Z"
    }
   },
   "cell_type": "code",
   "source": "global_horizontal_irradiance_dset.shape",
   "id": "75cc6c37e6e4b598",
   "outputs": [
    {
     "data": {
      "text/plain": [
       "(17520, 2018392)"
      ]
     },
     "execution_count": 16,
     "metadata": {},
     "output_type": "execute_result"
    }
   ],
   "execution_count": 16
  },
  {
   "metadata": {},
   "cell_type": "code",
   "source": [
    "# Full resolution subset of California\n",
    "meta = pd.DataFrame(f['meta'][...])\n",
    "CA = meta.loc[meta['state'] == b'California'] # Note .h5 saves strings as bit-strings\n",
    "CA.head()"
   ],
   "id": "ae518b1b29559f4f",
   "outputs": [],
   "execution_count": null
  },
  {
   "metadata": {
    "ExecuteTime": {
     "end_time": "2024-04-14T21:16:42.114285Z",
     "start_time": "2024-04-14T21:16:42.110151Z"
    }
   },
   "cell_type": "code",
   "source": "",
   "id": "7349b71fd09e6693",
   "outputs": [
    {
     "data": {
      "text/plain": [
       "Index([ 70276,  70588,  70589,  70590,  70591,  70592,  70593,  70594,  70595,\n",
       "        70596,\n",
       "       ...\n",
       "       172682, 172683, 172684, 172685, 172686, 172687, 172688, 172689, 172690,\n",
       "       172691],\n",
       "      dtype='int64', length=26010)"
      ]
     },
     "execution_count": 24,
     "metadata": {},
     "output_type": "execute_result"
    }
   ],
   "execution_count": 24
  },
  {
   "metadata": {
    "ExecuteTime": {
     "end_time": "2024-04-14T21:10:38.877550Z",
     "start_time": "2024-04-14T21:06:14.188613Z"
    }
   },
   "cell_type": "code",
   "source": [
    "# Plotting the data\n",
    "fig, axs = plt.subplots(2, 2, figsize=(12, 8))\n",
    "\n",
    "# Plot 1 - Global Horizontal Irradiance vs. Air Temperature\n",
    "axs[0, 0].scatter(air_temperature_dset, global_horizontal_irradiance_dset, color='blue', alpha=0.5)\n",
    "axs[0, 0].set_xlabel('Air Temperature')\n",
    "axs[0, 0].set_ylabel('Global Horizontal Irradiance')\n",
    "\n",
    "# Plot 2 - Global Horizontal Irradiance vs. Relative Humidity\n",
    "axs[0, 1].scatter(relative_humidity_dset, global_horizontal_irradiance_dset, color='green', alpha=0.5)\n",
    "axs[0, 1].set_xlabel('Relative Humidity')\n",
    "axs[0, 1].set_ylabel('Global Horizontal Irradiance')\n",
    "\n",
    "# Plot 3 - Cloud Optical Depth vs. Cloud Effective Radius\n",
    "axs[1, 0].scatter(cloud_optical_depth_dset, cloud_effective_radius_dset, color='red', alpha=0.5)\n",
    "axs[1, 0].set_xlabel('Cloud Optical Depth')\n",
    "axs[1, 0].set_ylabel('Cloud Effective Radius')\n",
    "\n",
    "# Plot 4 - Cloud Type Distribution\n",
    "cloud_type_counts = cloud_type_dset.value_counts()\n",
    "axs[1, 1].bar(cloud_type_counts.index, cloud_type_counts.values, color='purple', alpha=0.5)\n",
    "axs[1, 1].set_xlabel('Cloud Type')\n",
    "axs[1, 1].set_ylabel('Frequency')\n",
    "plt.tight_layout()\n",
    "plt.show()"
   ],
   "id": "c3b5410f38eac8bc",
   "outputs": [
    {
     "ename": "KeyboardInterrupt",
     "evalue": "",
     "output_type": "error",
     "traceback": [
      "\u001B[1;31m---------------------------------------------------------------------------\u001B[0m",
      "\u001B[1;31mKeyboardInterrupt\u001B[0m                         Traceback (most recent call last)",
      "Cell \u001B[1;32mIn[11], line 5\u001B[0m\n\u001B[0;32m      2\u001B[0m fig, axs \u001B[38;5;241m=\u001B[39m plt\u001B[38;5;241m.\u001B[39msubplots(\u001B[38;5;241m2\u001B[39m, \u001B[38;5;241m2\u001B[39m, figsize\u001B[38;5;241m=\u001B[39m(\u001B[38;5;241m12\u001B[39m, \u001B[38;5;241m8\u001B[39m))\n\u001B[0;32m      4\u001B[0m \u001B[38;5;66;03m# Plot 1 - Global Horizontal Irradiance vs. Air Temperature\u001B[39;00m\n\u001B[1;32m----> 5\u001B[0m axs[\u001B[38;5;241m0\u001B[39m, \u001B[38;5;241m0\u001B[39m]\u001B[38;5;241m.\u001B[39mscatter(air_temperature_dset, global_horizontal_irradiance_dset, color\u001B[38;5;241m=\u001B[39m\u001B[38;5;124m'\u001B[39m\u001B[38;5;124mblue\u001B[39m\u001B[38;5;124m'\u001B[39m, alpha\u001B[38;5;241m=\u001B[39m\u001B[38;5;241m0.5\u001B[39m)\n\u001B[0;32m      6\u001B[0m axs[\u001B[38;5;241m0\u001B[39m, \u001B[38;5;241m0\u001B[39m]\u001B[38;5;241m.\u001B[39mset_xlabel(\u001B[38;5;124m'\u001B[39m\u001B[38;5;124mAir Temperature\u001B[39m\u001B[38;5;124m'\u001B[39m)\n\u001B[0;32m      7\u001B[0m axs[\u001B[38;5;241m0\u001B[39m, \u001B[38;5;241m0\u001B[39m]\u001B[38;5;241m.\u001B[39mset_ylabel(\u001B[38;5;124m'\u001B[39m\u001B[38;5;124mGlobal Horizontal Irradiance\u001B[39m\u001B[38;5;124m'\u001B[39m)\n",
      "File \u001B[1;32mC:\\ProgramData\\anaconda3\\Lib\\site-packages\\matplotlib\\__init__.py:1465\u001B[0m, in \u001B[0;36m_preprocess_data.<locals>.inner\u001B[1;34m(ax, data, *args, **kwargs)\u001B[0m\n\u001B[0;32m   1462\u001B[0m \u001B[38;5;129m@functools\u001B[39m\u001B[38;5;241m.\u001B[39mwraps(func)\n\u001B[0;32m   1463\u001B[0m \u001B[38;5;28;01mdef\u001B[39;00m \u001B[38;5;21minner\u001B[39m(ax, \u001B[38;5;241m*\u001B[39margs, data\u001B[38;5;241m=\u001B[39m\u001B[38;5;28;01mNone\u001B[39;00m, \u001B[38;5;241m*\u001B[39m\u001B[38;5;241m*\u001B[39mkwargs):\n\u001B[0;32m   1464\u001B[0m     \u001B[38;5;28;01mif\u001B[39;00m data \u001B[38;5;129;01mis\u001B[39;00m \u001B[38;5;28;01mNone\u001B[39;00m:\n\u001B[1;32m-> 1465\u001B[0m         \u001B[38;5;28;01mreturn\u001B[39;00m func(ax, \u001B[38;5;241m*\u001B[39m\u001B[38;5;28mmap\u001B[39m(sanitize_sequence, args), \u001B[38;5;241m*\u001B[39m\u001B[38;5;241m*\u001B[39mkwargs)\n\u001B[0;32m   1467\u001B[0m     bound \u001B[38;5;241m=\u001B[39m new_sig\u001B[38;5;241m.\u001B[39mbind(ax, \u001B[38;5;241m*\u001B[39margs, \u001B[38;5;241m*\u001B[39m\u001B[38;5;241m*\u001B[39mkwargs)\n\u001B[0;32m   1468\u001B[0m     auto_label \u001B[38;5;241m=\u001B[39m (bound\u001B[38;5;241m.\u001B[39marguments\u001B[38;5;241m.\u001B[39mget(label_namer)\n\u001B[0;32m   1469\u001B[0m                   \u001B[38;5;129;01mor\u001B[39;00m bound\u001B[38;5;241m.\u001B[39mkwargs\u001B[38;5;241m.\u001B[39mget(label_namer))\n",
      "File \u001B[1;32mC:\\ProgramData\\anaconda3\\Lib\\site-packages\\matplotlib\\axes\\_axes.py:4646\u001B[0m, in \u001B[0;36mAxes.scatter\u001B[1;34m(self, x, y, s, c, marker, cmap, norm, vmin, vmax, alpha, linewidths, edgecolors, plotnonfinite, **kwargs)\u001B[0m\n\u001B[0;32m   4644\u001B[0m edgecolors \u001B[38;5;241m=\u001B[39m kwargs\u001B[38;5;241m.\u001B[39mpop(\u001B[38;5;124m'\u001B[39m\u001B[38;5;124medgecolor\u001B[39m\u001B[38;5;124m'\u001B[39m, \u001B[38;5;28;01mNone\u001B[39;00m)\n\u001B[0;32m   4645\u001B[0m \u001B[38;5;66;03m# Process **kwargs to handle aliases, conflicts with explicit kwargs:\u001B[39;00m\n\u001B[1;32m-> 4646\u001B[0m x, y \u001B[38;5;241m=\u001B[39m \u001B[38;5;28mself\u001B[39m\u001B[38;5;241m.\u001B[39m_process_unit_info([(\u001B[38;5;124m\"\u001B[39m\u001B[38;5;124mx\u001B[39m\u001B[38;5;124m\"\u001B[39m, x), (\u001B[38;5;124m\"\u001B[39m\u001B[38;5;124my\u001B[39m\u001B[38;5;124m\"\u001B[39m, y)], kwargs)\n\u001B[0;32m   4647\u001B[0m \u001B[38;5;66;03m# np.ma.ravel yields an ndarray, not a masked array,\u001B[39;00m\n\u001B[0;32m   4648\u001B[0m \u001B[38;5;66;03m# unless its argument is a masked array.\u001B[39;00m\n\u001B[0;32m   4649\u001B[0m x \u001B[38;5;241m=\u001B[39m np\u001B[38;5;241m.\u001B[39mma\u001B[38;5;241m.\u001B[39mravel(x)\n",
      "File \u001B[1;32mC:\\ProgramData\\anaconda3\\Lib\\site-packages\\matplotlib\\axes\\_base.py:2555\u001B[0m, in \u001B[0;36m_AxesBase._process_unit_info\u001B[1;34m(self, datasets, kwargs, convert)\u001B[0m\n\u001B[0;32m   2553\u001B[0m     \u001B[38;5;66;03m# Update from data if axis is already set but no unit is set yet.\u001B[39;00m\n\u001B[0;32m   2554\u001B[0m     \u001B[38;5;28;01mif\u001B[39;00m axis \u001B[38;5;129;01mis\u001B[39;00m \u001B[38;5;129;01mnot\u001B[39;00m \u001B[38;5;28;01mNone\u001B[39;00m \u001B[38;5;129;01mand\u001B[39;00m data \u001B[38;5;129;01mis\u001B[39;00m \u001B[38;5;129;01mnot\u001B[39;00m \u001B[38;5;28;01mNone\u001B[39;00m \u001B[38;5;129;01mand\u001B[39;00m \u001B[38;5;129;01mnot\u001B[39;00m axis\u001B[38;5;241m.\u001B[39mhave_units():\n\u001B[1;32m-> 2555\u001B[0m         axis\u001B[38;5;241m.\u001B[39mupdate_units(data)\n\u001B[0;32m   2556\u001B[0m \u001B[38;5;28;01mfor\u001B[39;00m axis_name, axis \u001B[38;5;129;01min\u001B[39;00m axis_map\u001B[38;5;241m.\u001B[39mitems():\n\u001B[0;32m   2557\u001B[0m     \u001B[38;5;66;03m# Return if no axis is set.\u001B[39;00m\n\u001B[0;32m   2558\u001B[0m     \u001B[38;5;28;01mif\u001B[39;00m axis \u001B[38;5;129;01mis\u001B[39;00m \u001B[38;5;28;01mNone\u001B[39;00m:\n",
      "File \u001B[1;32mC:\\ProgramData\\anaconda3\\Lib\\site-packages\\matplotlib\\axis.py:1706\u001B[0m, in \u001B[0;36mAxis.update_units\u001B[1;34m(self, data)\u001B[0m\n\u001B[0;32m   1700\u001B[0m \u001B[38;5;28;01mdef\u001B[39;00m \u001B[38;5;21mupdate_units\u001B[39m(\u001B[38;5;28mself\u001B[39m, data):\n\u001B[0;32m   1701\u001B[0m \u001B[38;5;250m    \u001B[39m\u001B[38;5;124;03m\"\"\"\u001B[39;00m\n\u001B[0;32m   1702\u001B[0m \u001B[38;5;124;03m    Introspect *data* for units converter and update the\u001B[39;00m\n\u001B[0;32m   1703\u001B[0m \u001B[38;5;124;03m    ``axis.converter`` instance if necessary. Return *True*\u001B[39;00m\n\u001B[0;32m   1704\u001B[0m \u001B[38;5;124;03m    if *data* is registered for unit conversion.\u001B[39;00m\n\u001B[0;32m   1705\u001B[0m \u001B[38;5;124;03m    \"\"\"\u001B[39;00m\n\u001B[1;32m-> 1706\u001B[0m     converter \u001B[38;5;241m=\u001B[39m munits\u001B[38;5;241m.\u001B[39mregistry\u001B[38;5;241m.\u001B[39mget_converter(data)\n\u001B[0;32m   1707\u001B[0m     \u001B[38;5;28;01mif\u001B[39;00m converter \u001B[38;5;129;01mis\u001B[39;00m \u001B[38;5;28;01mNone\u001B[39;00m:\n\u001B[0;32m   1708\u001B[0m         \u001B[38;5;28;01mreturn\u001B[39;00m \u001B[38;5;28;01mFalse\u001B[39;00m\n",
      "File \u001B[1;32mC:\\ProgramData\\anaconda3\\Lib\\site-packages\\matplotlib\\units.py:183\u001B[0m, in \u001B[0;36mRegistry.get_converter\u001B[1;34m(self, x)\u001B[0m\n\u001B[0;32m    181\u001B[0m         \u001B[38;5;28;01mpass\u001B[39;00m\n\u001B[0;32m    182\u001B[0m \u001B[38;5;28;01mtry\u001B[39;00m:  \u001B[38;5;66;03m# If cache lookup fails, look up based on first element...\u001B[39;00m\n\u001B[1;32m--> 183\u001B[0m     first \u001B[38;5;241m=\u001B[39m cbook\u001B[38;5;241m.\u001B[39m_safe_first_finite(x)\n\u001B[0;32m    184\u001B[0m \u001B[38;5;28;01mexcept\u001B[39;00m (\u001B[38;5;167;01mTypeError\u001B[39;00m, \u001B[38;5;167;01mStopIteration\u001B[39;00m):\n\u001B[0;32m    185\u001B[0m     \u001B[38;5;28;01mpass\u001B[39;00m\n",
      "File \u001B[1;32mC:\\ProgramData\\anaconda3\\Lib\\site-packages\\matplotlib\\cbook.py:1729\u001B[0m, in \u001B[0;36m_safe_first_finite\u001B[1;34m(obj, skip_nonfinite)\u001B[0m\n\u001B[0;32m   1726\u001B[0m     \u001B[38;5;28;01mraise\u001B[39;00m \u001B[38;5;167;01mRuntimeError\u001B[39;00m(\u001B[38;5;124m\"\u001B[39m\u001B[38;5;124mmatplotlib does not \u001B[39m\u001B[38;5;124m\"\u001B[39m\n\u001B[0;32m   1727\u001B[0m                        \u001B[38;5;124m\"\u001B[39m\u001B[38;5;124msupport generators as input\u001B[39m\u001B[38;5;124m\"\u001B[39m)\n\u001B[0;32m   1728\u001B[0m \u001B[38;5;28;01melse\u001B[39;00m:\n\u001B[1;32m-> 1729\u001B[0m     \u001B[38;5;28;01mfor\u001B[39;00m val \u001B[38;5;129;01min\u001B[39;00m obj:\n\u001B[0;32m   1730\u001B[0m         \u001B[38;5;28;01mif\u001B[39;00m safe_isfinite(val):\n\u001B[0;32m   1731\u001B[0m             \u001B[38;5;28;01mreturn\u001B[39;00m val\n",
      "File \u001B[1;32mC:\\ProgramData\\anaconda3\\Lib\\site-packages\\h5pyd\\_hl\\dataset.py:874\u001B[0m, in \u001B[0;36mDataset.__iter__\u001B[1;34m(self)\u001B[0m\n\u001B[0;32m    872\u001B[0m         numrows \u001B[38;5;241m=\u001B[39m shape[\u001B[38;5;241m0\u001B[39m] \u001B[38;5;241m-\u001B[39m i\n\u001B[0;32m    873\u001B[0m     \u001B[38;5;28mself\u001B[39m\u001B[38;5;241m.\u001B[39mlog\u001B[38;5;241m.\u001B[39mdebug(\u001B[38;5;124m\"\u001B[39m\u001B[38;5;124mget \u001B[39m\u001B[38;5;132;01m{}\u001B[39;00m\u001B[38;5;124m iter items\u001B[39m\u001B[38;5;124m\"\u001B[39m\u001B[38;5;241m.\u001B[39mformat(numrows))\n\u001B[1;32m--> 874\u001B[0m     arr \u001B[38;5;241m=\u001B[39m \u001B[38;5;28mself\u001B[39m[i : numrows \u001B[38;5;241m+\u001B[39m i]\n\u001B[0;32m    876\u001B[0m \u001B[38;5;28;01myield\u001B[39;00m arr[i \u001B[38;5;241m%\u001B[39m BUFFER_SIZE]\n",
      "File \u001B[1;32mC:\\ProgramData\\anaconda3\\Lib\\site-packages\\h5pyd\\_hl\\dataset.py:1160\u001B[0m, in \u001B[0;36mDataset.__getitem__\u001B[1;34m(self, args, new_dtype)\u001B[0m\n\u001B[0;32m   1158\u001B[0m params[\u001B[38;5;124m\"\u001B[39m\u001B[38;5;124mselect\u001B[39m\u001B[38;5;124m\"\u001B[39m] \u001B[38;5;241m=\u001B[39m \u001B[38;5;28mself\u001B[39m\u001B[38;5;241m.\u001B[39m_getQueryParam( page_start, page_stop, sel_step)\n\u001B[0;32m   1159\u001B[0m \u001B[38;5;28;01mtry\u001B[39;00m:\n\u001B[1;32m-> 1160\u001B[0m     rsp \u001B[38;5;241m=\u001B[39m \u001B[38;5;28mself\u001B[39m\u001B[38;5;241m.\u001B[39mGET(req, params\u001B[38;5;241m=\u001B[39mparams, \u001B[38;5;28mformat\u001B[39m\u001B[38;5;241m=\u001B[39m\u001B[38;5;124m\"\u001B[39m\u001B[38;5;124mbinary\u001B[39m\u001B[38;5;124m\"\u001B[39m)\n\u001B[0;32m   1161\u001B[0m \u001B[38;5;28;01mexcept\u001B[39;00m \u001B[38;5;167;01mIOError\u001B[39;00m \u001B[38;5;28;01mas\u001B[39;00m ioe:\n\u001B[0;32m   1162\u001B[0m     \u001B[38;5;28mself\u001B[39m\u001B[38;5;241m.\u001B[39mlog\u001B[38;5;241m.\u001B[39minfo(\u001B[38;5;124mf\u001B[39m\u001B[38;5;124m\"\u001B[39m\u001B[38;5;124mgot IOError: \u001B[39m\u001B[38;5;132;01m{\u001B[39;00mioe\u001B[38;5;241m.\u001B[39merrno\u001B[38;5;132;01m}\u001B[39;00m\u001B[38;5;124m\"\u001B[39m)\n",
      "File \u001B[1;32mC:\\ProgramData\\anaconda3\\Lib\\site-packages\\h5pyd\\_hl\\base.py:975\u001B[0m, in \u001B[0;36mHLObject.GET\u001B[1;34m(self, req, params, use_cache, format)\u001B[0m\n\u001B[0;32m    973\u001B[0m http_chunks \u001B[38;5;241m=\u001B[39m []\n\u001B[0;32m    974\u001B[0m downloaded_bytes \u001B[38;5;241m=\u001B[39m \u001B[38;5;241m0\u001B[39m\n\u001B[1;32m--> 975\u001B[0m \u001B[38;5;28;01mfor\u001B[39;00m http_chunk \u001B[38;5;129;01min\u001B[39;00m rsp\u001B[38;5;241m.\u001B[39miter_content(chunk_size\u001B[38;5;241m=\u001B[39mHTTP_CHUNK_SIZE):\n\u001B[0;32m    976\u001B[0m     \u001B[38;5;28;01mif\u001B[39;00m http_chunk:  \u001B[38;5;66;03m# filter out keep alive chunks\u001B[39;00m\n\u001B[0;32m    977\u001B[0m         \u001B[38;5;28mself\u001B[39m\u001B[38;5;241m.\u001B[39mlog\u001B[38;5;241m.\u001B[39mdebug(\u001B[38;5;124mf\u001B[39m\u001B[38;5;124m\"\u001B[39m\u001B[38;5;124mgot http_chunk - \u001B[39m\u001B[38;5;132;01m{\u001B[39;00m\u001B[38;5;28mlen\u001B[39m(http_chunk)\u001B[38;5;132;01m}\u001B[39;00m\u001B[38;5;124m bytes\u001B[39m\u001B[38;5;124m\"\u001B[39m)\n",
      "File \u001B[1;32mC:\\ProgramData\\anaconda3\\Lib\\site-packages\\requests\\models.py:816\u001B[0m, in \u001B[0;36mResponse.iter_content.<locals>.generate\u001B[1;34m()\u001B[0m\n\u001B[0;32m    814\u001B[0m \u001B[38;5;28;01mif\u001B[39;00m \u001B[38;5;28mhasattr\u001B[39m(\u001B[38;5;28mself\u001B[39m\u001B[38;5;241m.\u001B[39mraw, \u001B[38;5;124m\"\u001B[39m\u001B[38;5;124mstream\u001B[39m\u001B[38;5;124m\"\u001B[39m):\n\u001B[0;32m    815\u001B[0m     \u001B[38;5;28;01mtry\u001B[39;00m:\n\u001B[1;32m--> 816\u001B[0m         \u001B[38;5;28;01myield from\u001B[39;00m \u001B[38;5;28mself\u001B[39m\u001B[38;5;241m.\u001B[39mraw\u001B[38;5;241m.\u001B[39mstream(chunk_size, decode_content\u001B[38;5;241m=\u001B[39m\u001B[38;5;28;01mTrue\u001B[39;00m)\n\u001B[0;32m    817\u001B[0m     \u001B[38;5;28;01mexcept\u001B[39;00m ProtocolError \u001B[38;5;28;01mas\u001B[39;00m e:\n\u001B[0;32m    818\u001B[0m         \u001B[38;5;28;01mraise\u001B[39;00m ChunkedEncodingError(e)\n",
      "File \u001B[1;32mC:\\ProgramData\\anaconda3\\Lib\\site-packages\\urllib3\\response.py:628\u001B[0m, in \u001B[0;36mHTTPResponse.stream\u001B[1;34m(self, amt, decode_content)\u001B[0m\n\u001B[0;32m    626\u001B[0m \u001B[38;5;28;01melse\u001B[39;00m:\n\u001B[0;32m    627\u001B[0m     \u001B[38;5;28;01mwhile\u001B[39;00m \u001B[38;5;129;01mnot\u001B[39;00m is_fp_closed(\u001B[38;5;28mself\u001B[39m\u001B[38;5;241m.\u001B[39m_fp):\n\u001B[1;32m--> 628\u001B[0m         data \u001B[38;5;241m=\u001B[39m \u001B[38;5;28mself\u001B[39m\u001B[38;5;241m.\u001B[39mread(amt\u001B[38;5;241m=\u001B[39mamt, decode_content\u001B[38;5;241m=\u001B[39mdecode_content)\n\u001B[0;32m    630\u001B[0m         \u001B[38;5;28;01mif\u001B[39;00m data:\n\u001B[0;32m    631\u001B[0m             \u001B[38;5;28;01myield\u001B[39;00m data\n",
      "File \u001B[1;32mC:\\ProgramData\\anaconda3\\Lib\\site-packages\\urllib3\\response.py:567\u001B[0m, in \u001B[0;36mHTTPResponse.read\u001B[1;34m(self, amt, decode_content, cache_content)\u001B[0m\n\u001B[0;32m    564\u001B[0m fp_closed \u001B[38;5;241m=\u001B[39m \u001B[38;5;28mgetattr\u001B[39m(\u001B[38;5;28mself\u001B[39m\u001B[38;5;241m.\u001B[39m_fp, \u001B[38;5;124m\"\u001B[39m\u001B[38;5;124mclosed\u001B[39m\u001B[38;5;124m\"\u001B[39m, \u001B[38;5;28;01mFalse\u001B[39;00m)\n\u001B[0;32m    566\u001B[0m \u001B[38;5;28;01mwith\u001B[39;00m \u001B[38;5;28mself\u001B[39m\u001B[38;5;241m.\u001B[39m_error_catcher():\n\u001B[1;32m--> 567\u001B[0m     data \u001B[38;5;241m=\u001B[39m \u001B[38;5;28mself\u001B[39m\u001B[38;5;241m.\u001B[39m_fp_read(amt) \u001B[38;5;28;01mif\u001B[39;00m \u001B[38;5;129;01mnot\u001B[39;00m fp_closed \u001B[38;5;28;01melse\u001B[39;00m \u001B[38;5;124mb\u001B[39m\u001B[38;5;124m\"\u001B[39m\u001B[38;5;124m\"\u001B[39m\n\u001B[0;32m    568\u001B[0m     \u001B[38;5;28;01mif\u001B[39;00m amt \u001B[38;5;129;01mis\u001B[39;00m \u001B[38;5;28;01mNone\u001B[39;00m:\n\u001B[0;32m    569\u001B[0m         flush_decoder \u001B[38;5;241m=\u001B[39m \u001B[38;5;28;01mTrue\u001B[39;00m\n",
      "File \u001B[1;32mC:\\ProgramData\\anaconda3\\Lib\\site-packages\\urllib3\\response.py:533\u001B[0m, in \u001B[0;36mHTTPResponse._fp_read\u001B[1;34m(self, amt)\u001B[0m\n\u001B[0;32m    530\u001B[0m     \u001B[38;5;28;01mreturn\u001B[39;00m buffer\u001B[38;5;241m.\u001B[39mgetvalue()\n\u001B[0;32m    531\u001B[0m \u001B[38;5;28;01melse\u001B[39;00m:\n\u001B[0;32m    532\u001B[0m     \u001B[38;5;66;03m# StringIO doesn't like amt=None\u001B[39;00m\n\u001B[1;32m--> 533\u001B[0m     \u001B[38;5;28;01mreturn\u001B[39;00m \u001B[38;5;28mself\u001B[39m\u001B[38;5;241m.\u001B[39m_fp\u001B[38;5;241m.\u001B[39mread(amt) \u001B[38;5;28;01mif\u001B[39;00m amt \u001B[38;5;129;01mis\u001B[39;00m \u001B[38;5;129;01mnot\u001B[39;00m \u001B[38;5;28;01mNone\u001B[39;00m \u001B[38;5;28;01melse\u001B[39;00m \u001B[38;5;28mself\u001B[39m\u001B[38;5;241m.\u001B[39m_fp\u001B[38;5;241m.\u001B[39mread()\n",
      "File \u001B[1;32mC:\\ProgramData\\anaconda3\\Lib\\http\\client.py:473\u001B[0m, in \u001B[0;36mHTTPResponse.read\u001B[1;34m(self, amt)\u001B[0m\n\u001B[0;32m    470\u001B[0m \u001B[38;5;28;01mif\u001B[39;00m \u001B[38;5;28mself\u001B[39m\u001B[38;5;241m.\u001B[39mlength \u001B[38;5;129;01mis\u001B[39;00m \u001B[38;5;129;01mnot\u001B[39;00m \u001B[38;5;28;01mNone\u001B[39;00m \u001B[38;5;129;01mand\u001B[39;00m amt \u001B[38;5;241m>\u001B[39m \u001B[38;5;28mself\u001B[39m\u001B[38;5;241m.\u001B[39mlength:\n\u001B[0;32m    471\u001B[0m     \u001B[38;5;66;03m# clip the read to the \"end of response\"\u001B[39;00m\n\u001B[0;32m    472\u001B[0m     amt \u001B[38;5;241m=\u001B[39m \u001B[38;5;28mself\u001B[39m\u001B[38;5;241m.\u001B[39mlength\n\u001B[1;32m--> 473\u001B[0m s \u001B[38;5;241m=\u001B[39m \u001B[38;5;28mself\u001B[39m\u001B[38;5;241m.\u001B[39mfp\u001B[38;5;241m.\u001B[39mread(amt)\n\u001B[0;32m    474\u001B[0m \u001B[38;5;28;01mif\u001B[39;00m \u001B[38;5;129;01mnot\u001B[39;00m s \u001B[38;5;129;01mand\u001B[39;00m amt:\n\u001B[0;32m    475\u001B[0m     \u001B[38;5;66;03m# Ideally, we would raise IncompleteRead if the content-length\u001B[39;00m\n\u001B[0;32m    476\u001B[0m     \u001B[38;5;66;03m# wasn't satisfied, but it might break compatibility.\u001B[39;00m\n\u001B[0;32m    477\u001B[0m     \u001B[38;5;28mself\u001B[39m\u001B[38;5;241m.\u001B[39m_close_conn()\n",
      "File \u001B[1;32mC:\\ProgramData\\anaconda3\\Lib\\socket.py:706\u001B[0m, in \u001B[0;36mSocketIO.readinto\u001B[1;34m(self, b)\u001B[0m\n\u001B[0;32m    704\u001B[0m \u001B[38;5;28;01mwhile\u001B[39;00m \u001B[38;5;28;01mTrue\u001B[39;00m:\n\u001B[0;32m    705\u001B[0m     \u001B[38;5;28;01mtry\u001B[39;00m:\n\u001B[1;32m--> 706\u001B[0m         \u001B[38;5;28;01mreturn\u001B[39;00m \u001B[38;5;28mself\u001B[39m\u001B[38;5;241m.\u001B[39m_sock\u001B[38;5;241m.\u001B[39mrecv_into(b)\n\u001B[0;32m    707\u001B[0m     \u001B[38;5;28;01mexcept\u001B[39;00m timeout:\n\u001B[0;32m    708\u001B[0m         \u001B[38;5;28mself\u001B[39m\u001B[38;5;241m.\u001B[39m_timeout_occurred \u001B[38;5;241m=\u001B[39m \u001B[38;5;28;01mTrue\u001B[39;00m\n",
      "File \u001B[1;32mC:\\ProgramData\\anaconda3\\Lib\\ssl.py:1315\u001B[0m, in \u001B[0;36mSSLSocket.recv_into\u001B[1;34m(self, buffer, nbytes, flags)\u001B[0m\n\u001B[0;32m   1311\u001B[0m     \u001B[38;5;28;01mif\u001B[39;00m flags \u001B[38;5;241m!=\u001B[39m \u001B[38;5;241m0\u001B[39m:\n\u001B[0;32m   1312\u001B[0m         \u001B[38;5;28;01mraise\u001B[39;00m \u001B[38;5;167;01mValueError\u001B[39;00m(\n\u001B[0;32m   1313\u001B[0m           \u001B[38;5;124m\"\u001B[39m\u001B[38;5;124mnon-zero flags not allowed in calls to recv_into() on \u001B[39m\u001B[38;5;132;01m%s\u001B[39;00m\u001B[38;5;124m\"\u001B[39m \u001B[38;5;241m%\u001B[39m\n\u001B[0;32m   1314\u001B[0m           \u001B[38;5;28mself\u001B[39m\u001B[38;5;241m.\u001B[39m\u001B[38;5;18m__class__\u001B[39m)\n\u001B[1;32m-> 1315\u001B[0m     \u001B[38;5;28;01mreturn\u001B[39;00m \u001B[38;5;28mself\u001B[39m\u001B[38;5;241m.\u001B[39mread(nbytes, buffer)\n\u001B[0;32m   1316\u001B[0m \u001B[38;5;28;01melse\u001B[39;00m:\n\u001B[0;32m   1317\u001B[0m     \u001B[38;5;28;01mreturn\u001B[39;00m \u001B[38;5;28msuper\u001B[39m()\u001B[38;5;241m.\u001B[39mrecv_into(buffer, nbytes, flags)\n",
      "File \u001B[1;32mC:\\ProgramData\\anaconda3\\Lib\\ssl.py:1167\u001B[0m, in \u001B[0;36mSSLSocket.read\u001B[1;34m(self, len, buffer)\u001B[0m\n\u001B[0;32m   1165\u001B[0m \u001B[38;5;28;01mtry\u001B[39;00m:\n\u001B[0;32m   1166\u001B[0m     \u001B[38;5;28;01mif\u001B[39;00m buffer \u001B[38;5;129;01mis\u001B[39;00m \u001B[38;5;129;01mnot\u001B[39;00m \u001B[38;5;28;01mNone\u001B[39;00m:\n\u001B[1;32m-> 1167\u001B[0m         \u001B[38;5;28;01mreturn\u001B[39;00m \u001B[38;5;28mself\u001B[39m\u001B[38;5;241m.\u001B[39m_sslobj\u001B[38;5;241m.\u001B[39mread(\u001B[38;5;28mlen\u001B[39m, buffer)\n\u001B[0;32m   1168\u001B[0m     \u001B[38;5;28;01melse\u001B[39;00m:\n\u001B[0;32m   1169\u001B[0m         \u001B[38;5;28;01mreturn\u001B[39;00m \u001B[38;5;28mself\u001B[39m\u001B[38;5;241m.\u001B[39m_sslobj\u001B[38;5;241m.\u001B[39mread(\u001B[38;5;28mlen\u001B[39m)\n",
      "\u001B[1;31mKeyboardInterrupt\u001B[0m: "
     ]
    },
    {
     "data": {
      "text/plain": [
       "<Figure size 1200x800 with 4 Axes>"
      ],
      "image/png": "[encoded data removed]"
     },
     "metadata": {},
     "output_type": "display_data"
    }
   ],
   "execution_count": 11
  }
 ],
 "metadata": {
  "kernelspec": {
   "display_name": "Python 3",
   "language": "python",
   "name": "python3"
  },
  "language_info": {
   "codemirror_mode": {
    "name": "ipython",
    "version": 2
   },
   "file_extension": ".py",
   "mimetype": "text/x-python",
   "name": "python",
   "nbconvert_exporter": "python",
   "pygments_lexer": "ipython2",
   "version": "2.7.6"
  }
 },
 "nbformat": 4,
 "nbformat_minor": 5
}
