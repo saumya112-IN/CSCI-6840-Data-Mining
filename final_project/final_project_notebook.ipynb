{
 "cells": [
  {
   "metadata": {
    "ExecuteTime": {
     "end_time": "2024-04-14T19:13:41.494658Z",
     "start_time": "2024-04-14T19:13:41.490538Z"
    }
   },
   "cell_type": "code",
   "source": [
    "%matplotlib inline\n",
    "import h5pyd\n",
    "import numpy as np\n",
    "import pandas as pd\n",
    "import matplotlib.pyplot as plt\n",
    "import matplotlib.image as mpimg\n",
    "from scipy.spatial import cKDTree"
   ],
   "id": "f3189f142cd73c0d",
   "outputs": [],
   "execution_count": 4
  },
  {
   "metadata": {},
   "cell_type": "markdown",
   "source": [
    "## Get file from NSRDB\n",
    "\n",
    "Following examples from notebooks here: https://github.com/NREL/hsds-examples/blob/master/notebooks/03_NSRDB_introduction.ipynb\n",
    "\n",
    "For more information on what data is available from the files, see the NSRDB documentation @ NREL: https://developer.nrel.gov/docs/\n",
    "\n",
    "Actual documentation on how to use the h5py dataset object: https://docs.h5py.org/en/stable/quick.html#quick"
   ],
   "id": "91eb35f20ae0ec2f"
  },
  {
   "metadata": {},
   "cell_type": "markdown",
   "source": [
    "\n",
    "For this to work you must first install h5pyd:\n",
    "\n",
    "pip install --user h5pyd\n",
    "Next you'll need to configure HSDS:\n",
    "\n",
    "    `hsconfigure`\n",
    "and enter at the prompt:\n",
    "\n",
    "    hs_endpoint = https://developer.nrel.gov/api/hsds\n",
    "    hs_username = None\n",
    "    hs_password = None\n",
    "    hs_api_key = ul1bgjdq34XTFiAN4rOh8eadBuJhUtsaEFMyWoJr\n",
    "    The example API key here is for demonstation and is rate-limited per IP. To get your own API key, visit https://developer.nrel.gov/signup/\n",
    "\n",
    "You can also add the above contents to a configuration file at ~/.hscfg\n",
    "\n",
    "Or they can be passed in like as we've done below."
   ],
   "id": "8ec7a2d64e58d4dc"
  },
  {
   "metadata": {
    "ExecuteTime": {
     "end_time": "2024-04-14T19:13:45.733625Z",
     "start_time": "2024-04-14T19:13:44.889371Z"
    }
   },
   "cell_type": "code",
   "source": [
    "# Open the desired year of nsrdb data\n",
    "# server endpoint, username, password is found via a config file\n",
    "f = h5pyd.File(\"/nrel/nsrdb/v3/nsrdb_2012.h5\", 'r', 'https://developer.nrel.gov/api/hsds', None, None, None, 'ul1bgjdq34XTFiAN4rOh8eadBuJhUtsaEFMyWoJr')"
   ],
   "id": "52a1d64b614b2c3b",
   "outputs": [],
   "execution_count": 5
  },
  {
   "metadata": {
    "ExecuteTime": {
     "end_time": "2024-04-14T19:13:46.583900Z",
     "start_time": "2024-04-14T19:13:46.578900Z"
    }
   },
   "cell_type": "code",
   "source": "list(f.attrs)  # list attributes belonging to the root group",
   "id": "1f2236452bd17591",
   "outputs": [
    {
     "data": {
      "text/plain": [
       "['Version']"
      ]
     },
     "execution_count": 6,
     "metadata": {},
     "output_type": "execute_result"
    }
   ],
   "execution_count": 6
  },
  {
   "metadata": {
    "ExecuteTime": {
     "end_time": "2024-04-14T19:13:48.061945Z",
     "start_time": "2024-04-14T19:13:48.057945Z"
    }
   },
   "cell_type": "code",
   "source": "f.attrs['Version']   # attributes can be used to provide desriptions of the content",
   "id": "f280254bc6ea13a9",
   "outputs": [
    {
     "data": {
      "text/plain": [
       "'3.0.6'"
      ]
     },
     "execution_count": 7,
     "metadata": {},
     "output_type": "execute_result"
    }
   ],
   "execution_count": 7
  },
  {
   "metadata": {},
   "cell_type": "markdown",
   "source": "## Data Sets",
   "id": "71907c107d9ece9d"
  },
  {
   "metadata": {
    "ExecuteTime": {
     "end_time": "2024-04-14T19:13:49.374602Z",
     "start_time": "2024-04-14T19:13:49.370313Z"
    }
   },
   "cell_type": "code",
   "source": "list(f)  # list the datasets in the file",
   "id": "8cb6c09cd3593fe5",
   "outputs": [
    {
     "data": {
      "text/plain": [
       "['air_temperature',\n",
       " 'alpha',\n",
       " 'aod',\n",
       " 'asymmetry',\n",
       " 'cld_opd_dcomp',\n",
       " 'cld_reff_dcomp',\n",
       " 'clearsky_dhi',\n",
       " 'clearsky_dni',\n",
       " 'clearsky_ghi',\n",
       " 'cloud_press_acha',\n",
       " 'cloud_type',\n",
       " 'coordinates',\n",
       " 'dew_point',\n",
       " 'dhi',\n",
       " 'dni',\n",
       " 'fill_flag',\n",
       " 'ghi',\n",
       " 'meta',\n",
       " 'ozone',\n",
       " 'relative_humidity',\n",
       " 'solar_zenith_angle',\n",
       " 'ssa',\n",
       " 'surface_albedo',\n",
       " 'surface_pressure',\n",
       " 'time_index',\n",
       " 'total_precipitable_water',\n",
       " 'wind_direction',\n",
       " 'wind_speed']"
      ]
     },
     "execution_count": 8,
     "metadata": {},
     "output_type": "execute_result"
    }
   ],
   "execution_count": 8
  },
  {
   "metadata": {
    "ExecuteTime": {
     "end_time": "2024-04-14T19:19:59.651815Z",
     "start_time": "2024-04-14T19:19:48.842804Z"
    }
   },
   "cell_type": "code",
   "source": [
    "# Full resolution subset of California\n",
    "meta = pd.DataFrame(f['meta'][...])\n",
    "CA = meta.loc[meta['state'] == b'California'] # Note .h5 saves strings as bit-strings\n",
    "CA.head()"
   ],
   "id": "ac5e64c2f0577857",
   "outputs": [
    {
     "data": {
      "text/plain": [
       "        latitude   longitude   elevation  timezone           country  \\\n",
       "70276  32.529999 -117.099998   55.062500        -8  b'United States'   \n",
       "70588  32.570000 -117.099998    7.100000        -8  b'United States'   \n",
       "70589  32.570000 -117.059998   24.920000        -8  b'United States'   \n",
       "70590  32.570000 -117.019997   96.599998        -8  b'United States'   \n",
       "70591  32.570000 -116.980003  140.600006        -8  b'United States'   \n",
       "\n",
       "               state        county       urban  population  landcover  \n",
       "70276  b'California'  b'San Diego'     b'None'       32326        130  \n",
       "70588  b'California'  b'San Diego'  b'Tijuana'       27971        190  \n",
       "70589  b'California'  b'San Diego'  b'Tijuana'       51608        190  \n",
       "70590  b'California'  b'San Diego'  b'Tijuana'       15236        110  \n",
       "70591  b'California'  b'San Diego'  b'Tijuana'        2949        130  "
      ],
      "text/html": [
       "<div>\n",
       "<style scoped>\n",
       "    .dataframe tbody tr th:only-of-type {\n",
       "        vertical-align: middle;\n",
       "    }\n",
       "\n",
       "    .dataframe tbody tr th {\n",
       "        vertical-align: top;\n",
       "    }\n",
       "\n",
       "    .dataframe thead th {\n",
       "        text-align: right;\n",
       "    }\n",
       "</style>\n",
       "<table border=\"1\" class=\"dataframe\">\n",
       "  <thead>\n",
       "    <tr style=\"text-align: right;\">\n",
       "      <th></th>\n",
       "      <th>latitude</th>\n",
       "      <th>longitude</th>\n",
       "      <th>elevation</th>\n",
       "      <th>timezone</th>\n",
       "      <th>country</th>\n",
       "      <th>state</th>\n",
       "      <th>county</th>\n",
       "      <th>urban</th>\n",
       "      <th>population</th>\n",
       "      <th>landcover</th>\n",
       "    </tr>\n",
       "  </thead>\n",
       "  <tbody>\n",
       "    <tr>\n",
       "      <th>70276</th>\n",
       "      <td>32.529999</td>\n",
       "      <td>-117.099998</td>\n",
       "      <td>55.062500</td>\n",
       "      <td>-8</td>\n",
       "      <td>b'United States'</td>\n",
       "      <td>b'California'</td>\n",
       "      <td>b'San Diego'</td>\n",
       "      <td>b'None'</td>\n",
       "      <td>32326</td>\n",
       "      <td>130</td>\n",
       "    </tr>\n",
       "    <tr>\n",
       "      <th>70588</th>\n",
       "      <td>32.570000</td>\n",
       "      <td>-117.099998</td>\n",
       "      <td>7.100000</td>\n",
       "      <td>-8</td>\n",
       "      <td>b'United States'</td>\n",
       "      <td>b'California'</td>\n",
       "      <td>b'San Diego'</td>\n",
       "      <td>b'Tijuana'</td>\n",
       "      <td>27971</td>\n",
       "      <td>190</td>\n",
       "    </tr>\n",
       "    <tr>\n",
       "      <th>70589</th>\n",
       "      <td>32.570000</td>\n",
       "      <td>-117.059998</td>\n",
       "      <td>24.920000</td>\n",
       "      <td>-8</td>\n",
       "      <td>b'United States'</td>\n",
       "      <td>b'California'</td>\n",
       "      <td>b'San Diego'</td>\n",
       "      <td>b'Tijuana'</td>\n",
       "      <td>51608</td>\n",
       "      <td>190</td>\n",
       "    </tr>\n",
       "    <tr>\n",
       "      <th>70590</th>\n",
       "      <td>32.570000</td>\n",
       "      <td>-117.019997</td>\n",
       "      <td>96.599998</td>\n",
       "      <td>-8</td>\n",
       "      <td>b'United States'</td>\n",
       "      <td>b'California'</td>\n",
       "      <td>b'San Diego'</td>\n",
       "      <td>b'Tijuana'</td>\n",
       "      <td>15236</td>\n",
       "      <td>110</td>\n",
       "    </tr>\n",
       "    <tr>\n",
       "      <th>70591</th>\n",
       "      <td>32.570000</td>\n",
       "      <td>-116.980003</td>\n",
       "      <td>140.600006</td>\n",
       "      <td>-8</td>\n",
       "      <td>b'United States'</td>\n",
       "      <td>b'California'</td>\n",
       "      <td>b'San Diego'</td>\n",
       "      <td>b'Tijuana'</td>\n",
       "      <td>2949</td>\n",
       "      <td>130</td>\n",
       "    </tr>\n",
       "  </tbody>\n",
       "</table>\n",
       "</div>"
      ]
     },
     "execution_count": 15,
     "metadata": {},
     "output_type": "execute_result"
    }
   ],
   "execution_count": 15
  },
  {
   "metadata": {},
   "cell_type": "code",
   "outputs": [],
   "execution_count": null,
   "source": [
    "# Extract datetime index for datasets\n",
    "time_index = pd.to_datetime(f['time_index'][...].astype(str))\n",
    "march = time_index.month == 3\n",
    "np.where(march)[0]"
   ],
   "id": "62b4fd10195cfcc6"
  },
  {
   "metadata": {
    "ExecuteTime": {
     "end_time": "2024-04-14T19:36:09.025469Z",
     "start_time": "2024-04-14T19:36:09.020490Z"
    }
   },
   "cell_type": "code",
   "source": [
    "# geolocation coordinates\n",
    "coordinates_dset = f['coordinates']\n",
    "\n",
    "# y axis\n",
    "global_horizontal_irradiance_dset = f['ghi']\n",
    "\n",
    "# x axes\n",
    "air_temperature_dset = f['air_temperature']\n",
    "relative_humidity_dset = f['relative_humidity']\n",
    "cloud_optical_depth_dset = f['cld_opd_dcomp']\n",
    "cloud_effective_radius_dset = f['cld_reff_dcomp']\n",
    "cloud_type_dset = f['cloud_type']"
   ],
   "id": "a0ae1a52c7529763",
   "outputs": [],
   "execution_count": 26
  },
  {
   "metadata": {
    "ExecuteTime": {
     "end_time": "2024-04-14T19:14:09.680729Z",
     "start_time": "2024-04-14T19:14:08.818265Z"
    }
   },
   "cell_type": "code",
   "source": "",
   "id": "697e128b9650be7e",
   "outputs": [
    {
     "data": {
      "text/plain": [
       "array([2880, 2881, 2882, ..., 4365, 4366, 4367], dtype=int64)"
      ]
     },
     "execution_count": 9,
     "metadata": {},
     "output_type": "execute_result"
    }
   ],
   "execution_count": 9
  },
  {
   "metadata": {
    "ExecuteTime": {
     "end_time": "2024-04-14T19:27:02.652544Z",
     "start_time": "2024-04-14T19:27:02.588869Z"
    }
   },
   "cell_type": "code",
   "source": "air_temperature_dset[np.where(march)[0]]",
   "id": "967333647b33911a",
   "outputs": [
    {
     "ename": "TypeError",
     "evalue": "PointSelection __getitem__ only works with bool arrays",
     "output_type": "error",
     "traceback": [
      "\u001B[1;31m---------------------------------------------------------------------------\u001B[0m",
      "\u001B[1;31mTypeError\u001B[0m                                 Traceback (most recent call last)",
      "Cell \u001B[1;32mIn[24], line 1\u001B[0m\n\u001B[1;32m----> 1\u001B[0m air_temperature_dset[np\u001B[38;5;241m.\u001B[39mwhere(march)[\u001B[38;5;241m0\u001B[39m]]\n",
      "File \u001B[1;32mC:\\ProgramData\\anaconda3\\Lib\\site-packages\\h5pyd\\_hl\\dataset.py:1033\u001B[0m, in \u001B[0;36mDataset.__getitem__\u001B[1;34m(self, args, new_dtype)\u001B[0m\n\u001B[0;32m   1028\u001B[0m     \u001B[38;5;28;01mreturn\u001B[39;00m arr\n\u001B[0;32m   1030\u001B[0m \u001B[38;5;66;03m# === Everything else ===================\u001B[39;00m\n\u001B[0;32m   1031\u001B[0m \n\u001B[0;32m   1032\u001B[0m \u001B[38;5;66;03m# Perform the dataspace selection\u001B[39;00m\n\u001B[1;32m-> 1033\u001B[0m selection \u001B[38;5;241m=\u001B[39m sel\u001B[38;5;241m.\u001B[39mselect(\u001B[38;5;28mself\u001B[39m, args)\n\u001B[0;32m   1034\u001B[0m \u001B[38;5;28mself\u001B[39m\u001B[38;5;241m.\u001B[39mlog\u001B[38;5;241m.\u001B[39mdebug(\u001B[38;5;124m\"\u001B[39m\u001B[38;5;124mselection_constructor\u001B[39m\u001B[38;5;124m\"\u001B[39m)\n\u001B[0;32m   1036\u001B[0m \u001B[38;5;28;01mif\u001B[39;00m selection\u001B[38;5;241m.\u001B[39mnselect \u001B[38;5;241m==\u001B[39m \u001B[38;5;241m0\u001B[39m:\n",
      "File \u001B[1;32mC:\\ProgramData\\anaconda3\\Lib\\site-packages\\h5pyd\\_hl\\selections.py:84\u001B[0m, in \u001B[0;36mselect\u001B[1;34m(obj, args)\u001B[0m\n\u001B[0;32m     82\u001B[0m \u001B[38;5;28;01melif\u001B[39;00m \u001B[38;5;28misinstance\u001B[39m(arg, np\u001B[38;5;241m.\u001B[39mndarray) \u001B[38;5;129;01mor\u001B[39;00m \u001B[38;5;28misinstance\u001B[39m(arg, \u001B[38;5;28mlist\u001B[39m):\n\u001B[0;32m     83\u001B[0m     sel \u001B[38;5;241m=\u001B[39m PointSelection(obj\u001B[38;5;241m.\u001B[39mshape)\n\u001B[1;32m---> 84\u001B[0m     sel[arg]\n\u001B[0;32m     85\u001B[0m     \u001B[38;5;28;01mreturn\u001B[39;00m sel\n\u001B[0;32m     86\u001B[0m \u001B[38;5;250m\u001B[39m\u001B[38;5;124;03m\"\"\"\u001B[39;00m\n\u001B[0;32m     87\u001B[0m \u001B[38;5;124;03m#todo - RegionReference\u001B[39;00m\n\u001B[0;32m     88\u001B[0m \u001B[38;5;124;03melif isinstance(arg, h5r.RegionReference):\u001B[39;00m\n\u001B[1;32m   (...)\u001B[0m\n\u001B[0;32m     93\u001B[0m \u001B[38;5;124;03m    return Selection(shape, spaceid=sid)\u001B[39;00m\n\u001B[0;32m     94\u001B[0m \u001B[38;5;124;03m\"\"\"\u001B[39;00m\n",
      "File \u001B[1;32mC:\\ProgramData\\anaconda3\\Lib\\site-packages\\h5pyd\\_hl\\selections.py:273\u001B[0m, in \u001B[0;36mPointSelection.__getitem__\u001B[1;34m(self, arg)\u001B[0m\n\u001B[0;32m    271\u001B[0m \u001B[38;5;28;01melse\u001B[39;00m:\n\u001B[0;32m    272\u001B[0m     \u001B[38;5;28;01mif\u001B[39;00m \u001B[38;5;129;01mnot\u001B[39;00m (\u001B[38;5;28misinstance\u001B[39m(arg, np\u001B[38;5;241m.\u001B[39mndarray) \u001B[38;5;129;01mand\u001B[39;00m arg\u001B[38;5;241m.\u001B[39mdtype\u001B[38;5;241m.\u001B[39mkind \u001B[38;5;241m==\u001B[39m \u001B[38;5;124m'\u001B[39m\u001B[38;5;124mb\u001B[39m\u001B[38;5;124m'\u001B[39m):\n\u001B[1;32m--> 273\u001B[0m         \u001B[38;5;28;01mraise\u001B[39;00m \u001B[38;5;167;01mTypeError\u001B[39;00m(\u001B[38;5;124m\"\u001B[39m\u001B[38;5;124mPointSelection __getitem__ only works with bool arrays\u001B[39m\u001B[38;5;124m\"\u001B[39m)\n\u001B[0;32m    274\u001B[0m     \u001B[38;5;28;01mif\u001B[39;00m \u001B[38;5;129;01mnot\u001B[39;00m arg\u001B[38;5;241m.\u001B[39mshape \u001B[38;5;241m==\u001B[39m \u001B[38;5;28mself\u001B[39m\u001B[38;5;241m.\u001B[39m_shape:\n\u001B[0;32m    275\u001B[0m         \u001B[38;5;28;01mraise\u001B[39;00m \u001B[38;5;167;01mTypeError\u001B[39;00m(\u001B[38;5;124m\"\u001B[39m\u001B[38;5;124mBoolean indexing array has incompatible shape\u001B[39m\u001B[38;5;124m\"\u001B[39m)\n",
      "\u001B[1;31mTypeError\u001B[0m: PointSelection __getitem__ only works with bool arrays"
     ]
    }
   ],
   "execution_count": 24
  },
  {
   "metadata": {
    "ExecuteTime": {
     "end_time": "2024-04-14T19:25:06.344683Z",
     "start_time": "2024-04-14T19:25:05.490823Z"
    }
   },
   "cell_type": "code",
   "source": [
    "# Extract coordinates (lat, lon)\n",
    "print(dict(f['coordinates'].attrs))\n",
    "coords = f['coordinates'][...]"
   ],
   "id": "c5d8c34eee62f638",
   "outputs": [
    {
     "name": "stdout",
     "output_type": "stream",
     "text": [
      "{'description': '(latitude, longitude)'}\n"
     ]
    }
   ],
   "execution_count": 20
  },
  {
   "metadata": {
    "ExecuteTime": {
     "end_time": "2024-04-14T19:40:48.725456Z",
     "start_time": "2024-04-14T19:40:47.859976Z"
    }
   },
   "cell_type": "code",
   "source": "global_horizontal_irradiance_dset[np.where(march)[0],0]\n",
   "id": "4f6939288eae403a",
   "outputs": [
    {
     "data": {
      "text/plain": [
       "array([763, 752, 728, ..., 225, 565, 576], dtype=int16)"
      ]
     },
     "execution_count": 43,
     "metadata": {},
     "output_type": "execute_result"
    }
   ],
   "execution_count": 43
  },
  {
   "metadata": {},
   "cell_type": "code",
   "outputs": [],
   "execution_count": null,
   "source": [
    "df = pd.DataFrame()\n",
    "df['longitude'] = coords[::10, 1]\n",
    "df['latitude'] = coords[::10, 0]"
   ],
   "id": "f4b9a263679fc39c"
  }
 ],
 "metadata": {
  "kernelspec": {
   "display_name": "Python 3",
   "language": "python",
   "name": "python3"
  },
  "language_info": {
   "codemirror_mode": {
    "name": "ipython",
    "version": 2
   },
   "file_extension": ".py",
   "mimetype": "text/x-python",
   "name": "python",
   "nbconvert_exporter": "python",
   "pygments_lexer": "ipython2",
   "version": "2.7.6"
  }
 },
 "nbformat": 4,
 "nbformat_minor": 5
}
