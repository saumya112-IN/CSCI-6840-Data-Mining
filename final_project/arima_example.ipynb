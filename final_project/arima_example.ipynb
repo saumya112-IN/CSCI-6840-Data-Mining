{
 "cells": [
  {
   "metadata": {},
   "cell_type": "markdown",
   "source": [
    "# Exploratory Work\n",
    "- How to get irradiance and weather data\n",
    "- How to supply it to a VARMA model to train and make predictions"
   ],
   "id": "5ed9b839a6906278"
  },
  {
   "metadata": {},
   "cell_type": "markdown",
   "source": "## Library Imports",
   "id": "8600fd79d8bcca9d"
  },
  {
   "cell_type": "code",
   "id": "initial_id",
   "metadata": {
    "collapsed": true,
    "ExecuteTime": {
     "end_time": "2024-04-11T23:16:17.878173Z",
     "start_time": "2024-04-11T23:16:17.874981Z"
    }
   },
   "source": [
    "import pandas as pd\n",
    "import numpy as np\n",
    "from statsmodels.tsa.statespace.varmax import VARMAX\n",
    "import pandas as pd\n",
    "import pvlib\n",
    "import requests\n",
    "import json"
   ],
   "outputs": [],
   "execution_count": 8
  },
  {
   "metadata": {},
   "cell_type": "markdown",
   "source": "## Input Variables",
   "id": "4b6812e44ced615d"
  },
  {
   "metadata": {
    "ExecuteTime": {
     "end_time": "2024-04-11T23:19:52.590056Z",
     "start_time": "2024-04-11T23:19:52.586013Z"
    }
   },
   "cell_type": "code",
   "source": [
    "# Define the location and timezone\n",
    "location = pvlib.location.Location(latitude=40, longitude=-80, tz='EST')\n",
    "\n",
    "# Define the period of time\n",
    "times = pd.date_range(start='2024-01-01', end='2025-01-01', freq='H', tz=location.tz)"
   ],
   "id": "e3dbb4b11e449ce6",
   "outputs": [],
   "execution_count": 12
  },
  {
   "metadata": {},
   "cell_type": "markdown",
   "source": [
    "## Clearsky Irradiance Data\n",
    "Retrieved from pvlib [link](https://pvlib-python.readthedocs.io/en/stable/)"
   ],
   "id": "e939760600853ca"
  },
  {
   "metadata": {
    "ExecuteTime": {
     "end_time": "2024-04-11T23:19:54.665897Z",
     "start_time": "2024-04-11T23:19:54.603079Z"
    }
   },
   "cell_type": "code",
   "source": [
    "# Get solar position\n",
    "solar_position = location.get_solarposition(times)\n",
    "\n",
    "# Get clearsky irradiance\n",
    "clearsky_irradiance = location.get_clearsky(times, solar_position=solar_position)"
   ],
   "id": "902e4dcf61c9dbaa",
   "outputs": [],
   "execution_count": 13
  },
  {
   "metadata": {
    "ExecuteTime": {
     "end_time": "2024-04-11T23:19:57.359391Z",
     "start_time": "2024-04-11T23:19:57.353714Z"
    }
   },
   "cell_type": "code",
   "source": [
    "# Print solar irradiance data\n",
    "print(clearsky_irradiance)"
   ],
   "id": "d6e8867c2c35e586",
   "outputs": [
    {
     "name": "stdout",
     "output_type": "stream",
     "text": [
      "                           ghi  dni  dhi\n",
      "2024-01-01 00:00:00-05:00  0.0  0.0  0.0\n",
      "2024-01-01 01:00:00-05:00  0.0  0.0  0.0\n",
      "2024-01-01 02:00:00-05:00  0.0  0.0  0.0\n",
      "2024-01-01 03:00:00-05:00  0.0  0.0  0.0\n",
      "2024-01-01 04:00:00-05:00  0.0  0.0  0.0\n",
      "...                        ...  ...  ...\n",
      "2024-12-31 20:00:00-05:00  0.0  0.0  0.0\n",
      "2024-12-31 21:00:00-05:00  0.0  0.0  0.0\n",
      "2024-12-31 22:00:00-05:00  0.0  0.0  0.0\n",
      "2024-12-31 23:00:00-05:00  0.0  0.0  0.0\n",
      "2025-01-01 00:00:00-05:00  0.0  0.0  0.0\n",
      "\n",
      "[8785 rows x 3 columns]\n"
     ]
    }
   ],
   "execution_count": 14
  },
  {
   "metadata": {},
   "cell_type": "markdown",
   "source": [
    "## Weather data\n",
    "From weather api."
   ],
   "id": "ce9cd1f058101454"
  },
  {
   "metadata": {
    "ExecuteTime": {
     "end_time": "2024-04-11T23:20:03.237568Z",
     "start_time": "2024-04-11T23:20:02.994453Z"
    }
   },
   "cell_type": "code",
   "source": [
    "# Define the API endpoint for weather data\n",
    "# key from weatherapi.com\n",
    "url = \"http://api.weatherapi.com/v1/history.json?key=58e5a20071a342f8816230707241104&q=YOUR_LOCATION&dt=2024-01-01\"\n",
    "\n",
    "response = requests.get(url)\n",
    "weather_data = json.loads(response.text)"
   ],
   "id": "36808cce4796f714",
   "outputs": [],
   "execution_count": 15
  },
  {
   "metadata": {
    "ExecuteTime": {
     "end_time": "2024-04-11T23:20:05.157068Z",
     "start_time": "2024-04-11T23:20:05.154569Z"
    }
   },
   "cell_type": "code",
   "source": [
    "# Print weather data\n",
    "print(weather_data)"
   ],
   "id": "fea12c98a916d61e",
   "outputs": [
    {
     "name": "stdout",
     "output_type": "stream",
     "text": [
      "{'error': {'code': 1006, 'message': 'No matching location found.'}}\n"
     ]
    }
   ],
   "execution_count": 16
  },
  {
   "metadata": {},
   "cell_type": "markdown",
   "source": "## Train VARMA model",
   "id": "475f112c3d83c33"
  },
  {
   "metadata": {},
   "cell_type": "code",
   "source": [
    "## TODO: Feed the retrieved data into the `data` variable.\n",
    "data = pd.DataFrame(np.random.rand(100, 3), columns=['var1', 'var2', 'var3'])\n",
    "\n",
    "model = VARMAX(data, order=(1, 1))\n",
    "model_fit = model.fit(disp=False)\n",
    "\n",
    "# make prediction\n",
    "yhat = model_fit.forecast(steps=1)\n",
    "print(yhat)\n"
   ],
   "id": "f7151353917b099c",
   "outputs": [],
   "execution_count": null
  }
 ],
 "metadata": {
  "kernelspec": {
   "display_name": "Python 3",
   "language": "python",
   "name": "python3"
  },
  "language_info": {
   "codemirror_mode": {
    "name": "ipython",
    "version": 2
   },
   "file_extension": ".py",
   "mimetype": "text/x-python",
   "name": "python",
   "nbconvert_exporter": "python",
   "pygments_lexer": "ipython2",
   "version": "2.7.6"
  }
 },
 "nbformat": 4,
 "nbformat_minor": 5
}
