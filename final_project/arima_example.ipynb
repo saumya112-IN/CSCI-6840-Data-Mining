{
 "cells": [
  {
   "metadata": {},
   "cell_type": "markdown",
   "source": [
    "# Exploratory Work\n",
    "- How to get irradiance and weather data\n",
    "- How to supply it to a VARMA model to train and make predictions"
   ],
   "id": "5ed9b839a6906278"
  },
  {
   "metadata": {},
   "cell_type": "markdown",
   "source": "## Library Imports",
   "id": "8600fd79d8bcca9d"
  },
  {
   "cell_type": "code",
   "id": "initial_id",
   "metadata": {
    "collapsed": true,
    "ExecuteTime": {
     "end_time": "2024-04-11T23:16:17.878173Z",
     "start_time": "2024-04-11T23:16:17.874981Z"
    }
   },
   "source": [
    "import pandas as pd\n",
    "import numpy as np\n",
    "from statsmodels.tsa.statespace.varmax import VARMAX\n",
    "import pandas as pd\n",
    "import pvlib\n",
    "import requests\n",
    "import json"
   ],
   "outputs": [],
   "execution_count": 8
  },
  {
   "metadata": {},
   "cell_type": "markdown",
   "source": "## Input Variables",
   "id": "4b6812e44ced615d"
  },
  {
   "metadata": {
    "ExecuteTime": {
     "end_time": "2024-04-11T23:19:52.590056Z",
     "start_time": "2024-04-11T23:19:52.586013Z"
    }
   },
   "cell_type": "code",
   "source": [
    "# Define the location and timezone\n",
    "location = pvlib.location.Location(latitude=40, longitude=-80, tz='EST')\n",
    "\n",
    "# Define the period of time\n",
    "times = pd.date_range(start='2024-01-01', end='2025-01-01', freq='H', tz=location.tz)"
   ],
   "id": "e3dbb4b11e449ce6",
   "outputs": [],
   "execution_count": 12
  },
  {
   "metadata": {},
   "cell_type": "markdown",
   "source": [
    "## Clearsky Irradiance Data\n",
    "Retrieved from pvlib [link](https://pvlib-python.readthedocs.io/en/stable/)"
   ],
   "id": "e939760600853ca"
  },
  {
   "metadata": {
    "ExecuteTime": {
     "end_time": "2024-04-11T23:19:54.665897Z",
     "start_time": "2024-04-11T23:19:54.603079Z"
    }
   },
   "cell_type": "code",
   "source": [
    "# Get solar position\n",
    "solar_position = location.get_solarposition(times)\n",
    "\n",
    "# Get clearsky irradiance\n",
    "clearsky_irradiance = location.get_clearsky(times, solar_position=solar_position)"
   ],
   "id": "902e4dcf61c9dbaa",
   "outputs": [],
   "execution_count": 13
  },
  {
   "metadata": {
    "ExecuteTime": {
     "end_time": "2024-04-11T23:19:57.359391Z",
     "start_time": "2024-04-11T23:19:57.353714Z"
    }
   },
   "cell_type": "code",
   "source": [
    "# Print solar irradiance data\n",
    "print(clearsky_irradiance)"
   ],
   "id": "d6e8867c2c35e586",
   "outputs": [
    {
     "name": "stdout",
     "output_type": "stream",
     "text": [
      "                           ghi  dni  dhi\n",
      "2024-01-01 00:00:00-05:00  0.0  0.0  0.0\n",
      "2024-01-01 01:00:00-05:00  0.0  0.0  0.0\n",
      "2024-01-01 02:00:00-05:00  0.0  0.0  0.0\n",
      "2024-01-01 03:00:00-05:00  0.0  0.0  0.0\n",
      "2024-01-01 04:00:00-05:00  0.0  0.0  0.0\n",
      "...                        ...  ...  ...\n",
      "2024-12-31 20:00:00-05:00  0.0  0.0  0.0\n",
      "2024-12-31 21:00:00-05:00  0.0  0.0  0.0\n",
      "2024-12-31 22:00:00-05:00  0.0  0.0  0.0\n",
      "2024-12-31 23:00:00-05:00  0.0  0.0  0.0\n",
      "2025-01-01 00:00:00-05:00  0.0  0.0  0.0\n",
      "\n",
      "[8785 rows x 3 columns]\n"
     ]
    }
   ],
   "execution_count": 14
  },
  {
   "metadata": {},
   "cell_type": "markdown",
   "source": [
    "## Weather data\n",
    "From weather api."
   ],
   "id": "ce9cd1f058101454"
  },
  {
   "metadata": {
    "ExecuteTime": {
     "end_time": "2024-04-11T23:31:04.361922Z",
     "start_time": "2024-04-11T23:31:03.989983Z"
    }
   },
   "cell_type": "code",
   "source": [
    "# Define the API endpoint for weather data\n",
    "# key from weatherapi.com\n",
    "url = \"http://api.weatherapi.com/v1/history.json?key=58e5a20071a342f8816230707241104&q=North Carolina&dt=2024-01-01\"\n",
    "\n",
    "response = requests.get(url)\n",
    "weather_data = json.loads(response.text)"
   ],
   "id": "36808cce4796f714",
   "outputs": [],
   "execution_count": 19
  },
  {
   "metadata": {
    "ExecuteTime": {
     "end_time": "2024-04-13T16:15:46.774847Z",
     "start_time": "2024-04-13T16:15:46.516589Z"
    }
   },
   "cell_type": "code",
   "source": [
    "# Print weather data\n",
    "print(weather_data)"
   ],
   "id": "fea12c98a916d61e",
   "outputs": [
    {
     "name": "stdout",
     "output_type": "stream",
     "text": [
      "{'location': {'name': 'Carolina', 'region': 'North Carolina', 'country': 'United States of America', 'lat': 36.13, 'lon': -79.41, 'tz_id': 'America/New_York', 'localtime_epoch': 1712878150, 'localtime': '2024-04-11 19:29'}, 'forecast': {'forecastday': [{'date': '2024-01-01', 'date_epoch': 1704067200, 'day': {'maxtemp_c': 9.0, 'maxtemp_f': 48.2, 'mintemp_c': 0.8, 'mintemp_f': 33.5, 'avgtemp_c': 5.0, 'avgtemp_f': 40.9, 'maxwind_mph': 11.9, 'maxwind_kph': 19.1, 'totalprecip_mm': 0.0, 'totalprecip_in': 0.0, 'totalsnow_cm': 0.0, 'avgvis_km': 10.0, 'avgvis_miles': 6.0, 'avghumidity': 69, 'daily_will_it_rain': 0, 'daily_chance_of_rain': 0, 'daily_will_it_snow': 0, 'daily_chance_of_snow': 0, 'condition': {'text': 'Overcast', 'icon': '//cdn.weatherapi.com/weather/64x64/day/122.png', 'code': 1009}, 'uv': 2.0}, 'astro': {'sunrise': '07:29 AM', 'sunset': '05:14 PM', 'moonrise': '10:40 PM', 'moonset': '11:06 AM', 'moon_phase': 'Waning Gibbous', 'moon_illumination': 78}, 'hour': [{'time_epoch': 1704085200, 'time': '2024-01-01 00:00', 'temp_c': 3.5, 'temp_f': 38.2, 'is_day': 0, 'condition': {'text': 'Clear', 'icon': '//cdn.weatherapi.com/weather/64x64/night/113.png', 'code': 1000}, 'wind_mph': 6.5, 'wind_kph': 10.4, 'wind_degree': 232, 'wind_dir': 'SW', 'pressure_mb': 1018.0, 'pressure_in': 30.07, 'precip_mm': 0.0, 'precip_in': 0.0, 'snow_cm': 0.0, 'humidity': 82, 'cloud': 7, 'feelslike_c': 0.7, 'feelslike_f': 33.3, 'windchill_c': 0.7, 'windchill_f': 33.3, 'heatindex_c': 3.5, 'heatindex_f': 38.2, 'dewpoint_c': 0.7, 'dewpoint_f': 33.3, 'will_it_rain': 0, 'chance_of_rain': 0, 'will_it_snow': 0, 'chance_of_snow': 0, 'vis_km': 10.0, 'vis_miles': 6.0, 'gust_mph': 13.6, 'gust_kph': 21.9, 'uv': 1.0}, {'time_epoch': 1704088800, 'time': '2024-01-01 01:00', 'temp_c': 3.5, 'temp_f': 38.4, 'is_day': 0, 'condition': {'text': 'Clear', 'icon': '//cdn.weatherapi.com/weather/64x64/night/113.png', 'code': 1000}, 'wind_mph': 6.5, 'wind_kph': 10.4, 'wind_degree': 240, 'wind_dir': 'WSW', 'pressure_mb': 1018.0, 'pressure_in': 30.06, 'precip_mm': 0.0, 'precip_in': 0.0, 'snow_cm': 0.0, 'humidity': 83, 'cloud': 16, 'feelslike_c': 0.8, 'feelslike_f': 33.4, 'windchill_c': 0.8, 'windchill_f': 33.4, 'heatindex_c': 3.5, 'heatindex_f': 38.4, 'dewpoint_c': 0.9, 'dewpoint_f': 33.6, 'will_it_rain': 0, 'chance_of_rain': 0, 'will_it_snow': 0, 'chance_of_snow': 0, 'vis_km': 10.0, 'vis_miles': 6.0, 'gust_mph': 13.6, 'gust_kph': 21.9, 'uv': 1.0}, {'time_epoch': 1704092400, 'time': '2024-01-01 02:00', 'temp_c': 3.8, 'temp_f': 38.8, 'is_day': 0, 'condition': {'text': 'Clear', 'icon': '//cdn.weatherapi.com/weather/64x64/night/113.png', 'code': 1000}, 'wind_mph': 6.3, 'wind_kph': 10.1, 'wind_degree': 248, 'wind_dir': 'WSW', 'pressure_mb': 1018.0, 'pressure_in': 30.06, 'precip_mm': 0.0, 'precip_in': 0.0, 'snow_cm': 0.0, 'humidity': 83, 'cloud': 8, 'feelslike_c': 1.2, 'feelslike_f': 34.2, 'windchill_c': 1.2, 'windchill_f': 34.2, 'heatindex_c': 3.8, 'heatindex_f': 38.8, 'dewpoint_c': 1.2, 'dewpoint_f': 34.1, 'will_it_rain': 0, 'chance_of_rain': 0, 'will_it_snow': 0, 'chance_of_snow': 0, 'vis_km': 10.0, 'vis_miles': 6.0, 'gust_mph': 13.0, 'gust_kph': 20.9, 'uv': 1.0}, {'time_epoch': 1704096000, 'time': '2024-01-01 03:00', 'temp_c': 3.7, 'temp_f': 38.6, 'is_day': 0, 'condition': {'text': 'Clear', 'icon': '//cdn.weatherapi.com/weather/64x64/night/113.png', 'code': 1000}, 'wind_mph': 5.8, 'wind_kph': 9.4, 'wind_degree': 248, 'wind_dir': 'WSW', 'pressure_mb': 1018.0, 'pressure_in': 30.06, 'precip_mm': 0.0, 'precip_in': 0.0, 'snow_cm': 0.0, 'humidity': 83, 'cloud': 8, 'feelslike_c': 1.2, 'feelslike_f': 34.2, 'windchill_c': 1.2, 'windchill_f': 34.2, 'heatindex_c': 3.7, 'heatindex_f': 38.6, 'dewpoint_c': 1.1, 'dewpoint_f': 33.9, 'will_it_rain': 0, 'chance_of_rain': 0, 'will_it_snow': 0, 'chance_of_snow': 0, 'vis_km': 10.0, 'vis_miles': 6.0, 'gust_mph': 12.2, 'gust_kph': 19.7, 'uv': 1.0}, {'time_epoch': 1704099600, 'time': '2024-01-01 04:00', 'temp_c': 3.7, 'temp_f': 38.6, 'is_day': 0, 'condition': {'text': 'Clear', 'icon': '//cdn.weatherapi.com/weather/64x64/night/113.png', 'code': 1000}, 'wind_mph': 5.6, 'wind_kph': 9.0, 'wind_degree': 252, 'wind_dir': 'WSW', 'pressure_mb': 1018.0, 'pressure_in': 30.05, 'precip_mm': 0.0, 'precip_in': 0.0, 'snow_cm': 0.0, 'humidity': 82, 'cloud': 8, 'feelslike_c': 1.3, 'feelslike_f': 34.3, 'windchill_c': 1.3, 'windchill_f': 34.3, 'heatindex_c': 3.7, 'heatindex_f': 38.6, 'dewpoint_c': 0.9, 'dewpoint_f': 33.6, 'will_it_rain': 0, 'chance_of_rain': 0, 'will_it_snow': 0, 'chance_of_snow': 0, 'vis_km': 10.0, 'vis_miles': 6.0, 'gust_mph': 11.7, 'gust_kph': 18.9, 'uv': 1.0}, {'time_epoch': 1704103200, 'time': '2024-01-01 05:00', 'temp_c': 3.7, 'temp_f': 38.6, 'is_day': 0, 'condition': {'text': 'Clear', 'icon': '//cdn.weatherapi.com/weather/64x64/night/113.png', 'code': 1000}, 'wind_mph': 6.0, 'wind_kph': 9.7, 'wind_degree': 260, 'wind_dir': 'W', 'pressure_mb': 1018.0, 'pressure_in': 30.05, 'precip_mm': 0.0, 'precip_in': 0.0, 'snow_cm': 0.0, 'humidity': 81, 'cloud': 6, 'feelslike_c': 1.1, 'feelslike_f': 34.0, 'windchill_c': 1.1, 'windchill_f': 34.0, 'heatindex_c': 3.7, 'heatindex_f': 38.6, 'dewpoint_c': 0.8, 'dewpoint_f': 33.4, 'will_it_rain': 0, 'chance_of_rain': 0, 'will_it_snow': 0, 'chance_of_snow': 0, 'vis_km': 10.0, 'vis_miles': 6.0, 'gust_mph': 12.7, 'gust_kph': 20.4, 'uv': 1.0}, {'time_epoch': 1704106800, 'time': '2024-01-01 06:00', 'temp_c': 4.0, 'temp_f': 39.3, 'is_day': 0, 'condition': {'text': 'Clear', 'icon': '//cdn.weatherapi.com/weather/64x64/night/113.png', 'code': 1000}, 'wind_mph': 6.3, 'wind_kph': 10.1, 'wind_degree': 272, 'wind_dir': 'W', 'pressure_mb': 1017.0, 'pressure_in': 30.05, 'precip_mm': 0.0, 'precip_in': 0.0, 'snow_cm': 0.0, 'humidity': 79, 'cloud': 12, 'feelslike_c': 1.5, 'feelslike_f': 34.7, 'windchill_c': 1.5, 'windchill_f': 34.7, 'heatindex_c': 4.1, 'heatindex_f': 39.3, 'dewpoint_c': 0.7, 'dewpoint_f': 33.3, 'will_it_rain': 0, 'chance_of_rain': 0, 'will_it_snow': 0, 'chance_of_snow': 0, 'vis_km': 10.0, 'vis_miles': 6.0, 'gust_mph': 13.2, 'gust_kph': 21.2, 'uv': 1.0}, {'time_epoch': 1704110400, 'time': '2024-01-01 07:00', 'temp_c': 3.9, 'temp_f': 39.1, 'is_day': 0, 'condition': {'text': 'Partly cloudy', 'icon': '//cdn.weatherapi.com/weather/64x64/night/116.png', 'code': 1003}, 'wind_mph': 5.8, 'wind_kph': 9.4, 'wind_degree': 283, 'wind_dir': 'WNW', 'pressure_mb': 1018.0, 'pressure_in': 30.06, 'precip_mm': 0.0, 'precip_in': 0.0, 'snow_cm': 0.0, 'humidity': 80, 'cloud': 32, 'feelslike_c': 1.5, 'feelslike_f': 34.7, 'windchill_c': 1.5, 'windchill_f': 34.7, 'heatindex_c': 3.9, 'heatindex_f': 39.1, 'dewpoint_c': 0.8, 'dewpoint_f': 33.4, 'will_it_rain': 0, 'chance_of_rain': 0, 'will_it_snow': 0, 'chance_of_snow': 0, 'vis_km': 10.0, 'vis_miles': 6.0, 'gust_mph': 12.2, 'gust_kph': 19.7, 'uv': 1.0}, {'time_epoch': 1704114000, 'time': '2024-01-01 08:00', 'temp_c': 3.7, 'temp_f': 38.6, 'is_day': 1, 'condition': {'text': 'Overcast', 'icon': '//cdn.weatherapi.com/weather/64x64/day/122.png', 'code': 1009}, 'wind_mph': 5.1, 'wind_kph': 8.3, 'wind_degree': 293, 'wind_dir': 'WNW', 'pressure_mb': 1019.0, 'pressure_in': 30.08, 'precip_mm': 0.0, 'precip_in': 0.0, 'snow_cm': 0.0, 'humidity': 81, 'cloud': 100, 'feelslike_c': 1.5, 'feelslike_f': 34.7, 'windchill_c': 1.5, 'windchill_f': 34.7, 'heatindex_c': 3.7, 'heatindex_f': 38.6, 'dewpoint_c': 0.8, 'dewpoint_f': 33.4, 'will_it_rain': 0, 'chance_of_rain': 0, 'will_it_snow': 0, 'chance_of_snow': 0, 'vis_km': 10.0, 'vis_miles': 6.0, 'gust_mph': 10.8, 'gust_kph': 17.4, 'uv': 1.0}, {'time_epoch': 1704117600, 'time': '2024-01-01 09:00', 'temp_c': 3.9, 'temp_f': 39.0, 'is_day': 1, 'condition': {'text': 'Overcast', 'icon': '//cdn.weatherapi.com/weather/64x64/day/122.png', 'code': 1009}, 'wind_mph': 4.9, 'wind_kph': 7.9, 'wind_degree': 303, 'wind_dir': 'WNW', 'pressure_mb': 1019.0, 'pressure_in': 30.1, 'precip_mm': 0.0, 'precip_in': 0.0, 'snow_cm': 0.0, 'humidity': 81, 'cloud': 100, 'feelslike_c': 1.9, 'feelslike_f': 35.3, 'windchill_c': 1.9, 'windchill_f': 35.3, 'heatindex_c': 3.9, 'heatindex_f': 39.0, 'dewpoint_c': 0.9, 'dewpoint_f': 33.6, 'will_it_rain': 0, 'chance_of_rain': 0, 'will_it_snow': 0, 'chance_of_snow': 0, 'vis_km': 10.0, 'vis_miles': 6.0, 'gust_mph': 10.0, 'gust_kph': 16.1, 'uv': 1.0}, {'time_epoch': 1704121200, 'time': '2024-01-01 10:00', 'temp_c': 5.5, 'temp_f': 41.9, 'is_day': 1, 'condition': {'text': 'Overcast', 'icon': '//cdn.weatherapi.com/weather/64x64/day/122.png', 'code': 1009}, 'wind_mph': 4.0, 'wind_kph': 6.5, 'wind_degree': 309, 'wind_dir': 'NW', 'pressure_mb': 1020.0, 'pressure_in': 30.11, 'precip_mm': 0.0, 'precip_in': 0.0, 'snow_cm': 0.0, 'humidity': 76, 'cloud': 100, 'feelslike_c': 4.1, 'feelslike_f': 39.4, 'windchill_c': 4.1, 'windchill_f': 39.4, 'heatindex_c': 5.5, 'heatindex_f': 41.8, 'dewpoint_c': 1.5, 'dewpoint_f': 34.8, 'will_it_rain': 0, 'chance_of_rain': 0, 'will_it_snow': 0, 'chance_of_snow': 0, 'vis_km': 10.0, 'vis_miles': 6.0, 'gust_mph': 6.2, 'gust_kph': 10.0, 'uv': 2.0}, {'time_epoch': 1704124800, 'time': '2024-01-01 11:00', 'temp_c': 7.1, 'temp_f': 44.7, 'is_day': 1, 'condition': {'text': 'Overcast', 'icon': '//cdn.weatherapi.com/weather/64x64/day/122.png', 'code': 1009}, 'wind_mph': 6.3, 'wind_kph': 10.1, 'wind_degree': 339, 'wind_dir': 'NNW', 'pressure_mb': 1020.0, 'pressure_in': 30.12, 'precip_mm': 0.0, 'precip_in': 0.0, 'snow_cm': 0.0, 'humidity': 68, 'cloud': 100, 'feelslike_c': 5.1, 'feelslike_f': 41.2, 'windchill_c': 5.1, 'windchill_f': 41.2, 'heatindex_c': 7.1, 'heatindex_f': 44.7, 'dewpoint_c': 1.6, 'dewpoint_f': 34.9, 'will_it_rain': 0, 'chance_of_rain': 0, 'will_it_snow': 0, 'chance_of_snow': 0, 'vis_km': 10.0, 'vis_miles': 6.0, 'gust_mph': 8.0, 'gust_kph': 12.8, 'uv': 2.0}, {'time_epoch': 1704128400, 'time': '2024-01-01 12:00', 'temp_c': 8.0, 'temp_f': 46.5, 'is_day': 1, 'condition': {'text': 'Cloudy', 'icon': '//cdn.weatherapi.com/weather/64x64/day/119.png', 'code': 1006}, 'wind_mph': 6.9, 'wind_kph': 11.2, 'wind_degree': 330, 'wind_dir': 'NNW', 'pressure_mb': 1020.0, 'pressure_in': 30.12, 'precip_mm': 0.0, 'precip_in': 0.0, 'snow_cm': 0.0, 'humidity': 62, 'cloud': 67, 'feelslike_c': 6.1, 'feelslike_f': 42.9, 'windchill_c': 6.1, 'windchill_f': 42.9, 'heatindex_c': 8.0, 'heatindex_f': 46.5, 'dewpoint_c': 1.2, 'dewpoint_f': 34.2, 'will_it_rain': 0, 'chance_of_rain': 0, 'will_it_snow': 0, 'chance_of_snow': 0, 'vis_km': 10.0, 'vis_miles': 6.0, 'gust_mph': 8.4, 'gust_kph': 13.5, 'uv': 2.0}, {'time_epoch': 1704132000, 'time': '2024-01-01 13:00', 'temp_c': 8.9, 'temp_f': 47.9, 'is_day': 1, 'condition': {'text': 'Overcast', 'icon': '//cdn.weatherapi.com/weather/64x64/day/122.png', 'code': 1009}, 'wind_mph': 7.2, 'wind_kph': 11.5, 'wind_degree': 322, 'wind_dir': 'NW', 'pressure_mb': 1019.0, 'pressure_in': 30.09, 'precip_mm': 0.0, 'precip_in': 0.0, 'snow_cm': 0.0, 'humidity': 57, 'cloud': 100, 'feelslike_c': 7.0, 'feelslike_f': 44.6, 'windchill_c': 7.0, 'windchill_f': 44.6, 'heatindex_c': 8.9, 'heatindex_f': 47.9, 'dewpoint_c': 0.7, 'dewpoint_f': 33.3, 'will_it_rain': 0, 'chance_of_rain': 0, 'will_it_snow': 0, 'chance_of_snow': 0, 'vis_km': 10.0, 'vis_miles': 6.0, 'gust_mph': 8.3, 'gust_kph': 13.4, 'uv': 2.0}, {'time_epoch': 1704135600, 'time': '2024-01-01 14:00', 'temp_c': 9.0, 'temp_f': 48.2, 'is_day': 1, 'condition': {'text': 'Overcast', 'icon': '//cdn.weatherapi.com/weather/64x64/day/122.png', 'code': 1009}, 'wind_mph': 8.1, 'wind_kph': 13.0, 'wind_degree': 320, 'wind_dir': 'NW', 'pressure_mb': 1018.0, 'pressure_in': 30.08, 'precip_mm': 0.0, 'precip_in': 0.0, 'snow_cm': 0.0, 'humidity': 54, 'cloud': 100, 'feelslike_c': 7.0, 'feelslike_f': 44.6, 'windchill_c': 7.0, 'windchill_f': 44.6, 'heatindex_c': 9.0, 'heatindex_f': 48.2, 'dewpoint_c': 0.2, 'dewpoint_f': 32.4, 'will_it_rain': 0, 'chance_of_rain': 0, 'will_it_snow': 0, 'chance_of_snow': 0, 'vis_km': 10.0, 'vis_miles': 6.0, 'gust_mph': 9.6, 'gust_kph': 15.4, 'uv': 2.0}, {'time_epoch': 1704139200, 'time': '2024-01-01 15:00', 'temp_c': 8.9, 'temp_f': 48.0, 'is_day': 1, 'condition': {'text': 'Overcast', 'icon': '//cdn.weatherapi.com/weather/64x64/day/122.png', 'code': 1009}, 'wind_mph': 9.4, 'wind_kph': 15.1, 'wind_degree': 326, 'wind_dir': 'NNW', 'pressure_mb': 1018.0, 'pressure_in': 30.06, 'precip_mm': 0.0, 'precip_in': 0.0, 'snow_cm': 0.0, 'humidity': 52, 'cloud': 100, 'feelslike_c': 6.6, 'feelslike_f': 43.8, 'windchill_c': 6.6, 'windchill_f': 43.8, 'heatindex_c': 8.9, 'heatindex_f': 48.0, 'dewpoint_c': -0.3, 'dewpoint_f': 31.4, 'will_it_rain': 0, 'chance_of_rain': 0, 'will_it_snow': 0, 'chance_of_snow': 0, 'vis_km': 10.0, 'vis_miles': 6.0, 'gust_mph': 11.4, 'gust_kph': 18.4, 'uv': 2.0}, {'time_epoch': 1704142800, 'time': '2024-01-01 16:00', 'temp_c': 8.3, 'temp_f': 46.9, 'is_day': 1, 'condition': {'text': 'Overcast', 'icon': '//cdn.weatherapi.com/weather/64x64/day/122.png', 'code': 1009}, 'wind_mph': 10.1, 'wind_kph': 16.2, 'wind_degree': 326, 'wind_dir': 'NNW', 'pressure_mb': 1019.0, 'pressure_in': 30.08, 'precip_mm': 0.0, 'precip_in': 0.0, 'snow_cm': 0.0, 'humidity': 50, 'cloud': 100, 'feelslike_c': 5.6, 'feelslike_f': 42.1, 'windchill_c': 5.6, 'windchill_f': 42.1, 'heatindex_c': 8.3, 'heatindex_f': 46.9, 'dewpoint_c': -1.4, 'dewpoint_f': 29.4, 'will_it_rain': 0, 'chance_of_rain': 0, 'will_it_snow': 0, 'chance_of_snow': 0, 'vis_km': 10.0, 'vis_miles': 6.0, 'gust_mph': 13.0, 'gust_kph': 20.8, 'uv': 2.0}, {'time_epoch': 1704146400, 'time': '2024-01-01 17:00', 'temp_c': 7.5, 'temp_f': 45.6, 'is_day': 1, 'condition': {'text': 'Overcast', 'icon': '//cdn.weatherapi.com/weather/64x64/day/122.png', 'code': 1009}, 'wind_mph': 7.8, 'wind_kph': 12.6, 'wind_degree': 329, 'wind_dir': 'NNW', 'pressure_mb': 1019.0, 'pressure_in': 30.1, 'precip_mm': 0.0, 'precip_in': 0.0, 'snow_cm': 0.0, 'humidity': 53, 'cloud': 100, 'feelslike_c': 5.3, 'feelslike_f': 41.5, 'windchill_c': 5.3, 'windchill_f': 41.5, 'heatindex_c': 7.6, 'heatindex_f': 45.6, 'dewpoint_c': -1.5, 'dewpoint_f': 29.3, 'will_it_rain': 0, 'chance_of_rain': 0, 'will_it_snow': 0, 'chance_of_snow': 0, 'vis_km': 10.0, 'vis_miles': 6.0, 'gust_mph': 11.0, 'gust_kph': 17.6, 'uv': 2.0}, {'time_epoch': 1704150000, 'time': '2024-01-01 18:00', 'temp_c': 6.2, 'temp_f': 43.2, 'is_day': 0, 'condition': {'text': 'Overcast', 'icon': '//cdn.weatherapi.com/weather/64x64/night/122.png', 'code': 1009}, 'wind_mph': 8.5, 'wind_kph': 13.7, 'wind_degree': 341, 'wind_dir': 'NNW', 'pressure_mb': 1020.0, 'pressure_in': 30.11, 'precip_mm': 0.0, 'precip_in': 0.0, 'snow_cm': 0.0, 'humidity': 54, 'cloud': 100, 'feelslike_c': 3.5, 'feelslike_f': 38.2, 'windchill_c': 3.5, 'windchill_f': 38.2, 'heatindex_c': 6.2, 'heatindex_f': 43.2, 'dewpoint_c': -2.3, 'dewpoint_f': 27.9, 'will_it_rain': 0, 'chance_of_rain': 0, 'will_it_snow': 0, 'chance_of_snow': 0, 'vis_km': 10.0, 'vis_miles': 6.0, 'gust_mph': 13.4, 'gust_kph': 21.5, 'uv': 1.0}, {'time_epoch': 1704153600, 'time': '2024-01-01 19:00', 'temp_c': 4.6, 'temp_f': 40.2, 'is_day': 0, 'condition': {'text': 'Overcast', 'icon': '//cdn.weatherapi.com/weather/64x64/night/122.png', 'code': 1009}, 'wind_mph': 9.8, 'wind_kph': 15.8, 'wind_degree': 346, 'wind_dir': 'NNW', 'pressure_mb': 1020.0, 'pressure_in': 30.13, 'precip_mm': 0.0, 'precip_in': 0.0, 'snow_cm': 0.0, 'humidity': 56, 'cloud': 100, 'feelslike_c': 1.1, 'feelslike_f': 33.9, 'windchill_c': 1.1, 'windchill_f': 33.9, 'heatindex_c': 4.6, 'heatindex_f': 40.2, 'dewpoint_c': -3.4, 'dewpoint_f': 25.9, 'will_it_rain': 0, 'chance_of_rain': 0, 'will_it_snow': 0, 'chance_of_snow': 0, 'vis_km': 10.0, 'vis_miles': 6.0, 'gust_mph': 16.1, 'gust_kph': 25.9, 'uv': 1.0}, {'time_epoch': 1704157200, 'time': '2024-01-01 20:00', 'temp_c': 3.4, 'temp_f': 38.1, 'is_day': 0, 'condition': {'text': 'Partly cloudy', 'icon': '//cdn.weatherapi.com/weather/64x64/night/116.png', 'code': 1003}, 'wind_mph': 11.6, 'wind_kph': 18.7, 'wind_degree': 340, 'wind_dir': 'NNW', 'pressure_mb': 1021.0, 'pressure_in': 30.15, 'precip_mm': 0.0, 'precip_in': 0.0, 'snow_cm': 0.0, 'humidity': 59, 'cloud': 27, 'feelslike_c': -0.8, 'feelslike_f': 30.5, 'windchill_c': -0.8, 'windchill_f': 30.5, 'heatindex_c': 3.4, 'heatindex_f': 38.1, 'dewpoint_c': -3.8, 'dewpoint_f': 25.2, 'will_it_rain': 0, 'chance_of_rain': 0, 'will_it_snow': 0, 'chance_of_snow': 0, 'vis_km': 10.0, 'vis_miles': 6.0, 'gust_mph': 18.9, 'gust_kph': 30.5, 'uv': 1.0}, {'time_epoch': 1704160800, 'time': '2024-01-01 21:00', 'temp_c': 2.1, 'temp_f': 35.8, 'is_day': 0, 'condition': {'text': 'Clear', 'icon': '//cdn.weatherapi.com/weather/64x64/night/113.png', 'code': 1000}, 'wind_mph': 11.9, 'wind_kph': 19.1, 'wind_degree': 337, 'wind_dir': 'NNW', 'pressure_mb': 1022.0, 'pressure_in': 30.17, 'precip_mm': 0.0, 'precip_in': 0.0, 'snow_cm': 0.0, 'humidity': 64, 'cloud': 12, 'feelslike_c': -2.4, 'feelslike_f': 27.6, 'windchill_c': -2.4, 'windchill_f': 27.6, 'heatindex_c': 2.1, 'heatindex_f': 35.8, 'dewpoint_c': -4.0, 'dewpoint_f': 24.8, 'will_it_rain': 0, 'chance_of_rain': 0, 'will_it_snow': 0, 'chance_of_snow': 0, 'vis_km': 10.0, 'vis_miles': 6.0, 'gust_mph': 19.2, 'gust_kph': 30.9, 'uv': 1.0}, {'time_epoch': 1704164400, 'time': '2024-01-01 22:00', 'temp_c': 1.3, 'temp_f': 34.3, 'is_day': 0, 'condition': {'text': 'Clear', 'icon': '//cdn.weatherapi.com/weather/64x64/night/113.png', 'code': 1000}, 'wind_mph': 9.6, 'wind_kph': 15.5, 'wind_degree': 333, 'wind_dir': 'NNW', 'pressure_mb': 1022.0, 'pressure_in': 30.18, 'precip_mm': 0.0, 'precip_in': 0.0, 'snow_cm': 0.0, 'humidity': 67, 'cloud': 11, 'feelslike_c': -2.9, 'feelslike_f': 26.8, 'windchill_c': -2.9, 'windchill_f': 26.8, 'heatindex_c': 1.3, 'heatindex_f': 34.3, 'dewpoint_c': -4.2, 'dewpoint_f': 24.5, 'will_it_rain': 0, 'chance_of_rain': 0, 'will_it_snow': 0, 'chance_of_snow': 0, 'vis_km': 10.0, 'vis_miles': 6.0, 'gust_mph': 16.1, 'gust_kph': 25.9, 'uv': 1.0}, {'time_epoch': 1704168000, 'time': '2024-01-01 23:00', 'temp_c': 0.8, 'temp_f': 33.5, 'is_day': 0, 'condition': {'text': 'Clear', 'icon': '//cdn.weatherapi.com/weather/64x64/night/113.png', 'code': 1000}, 'wind_mph': 8.5, 'wind_kph': 13.7, 'wind_degree': 328, 'wind_dir': 'NNW', 'pressure_mb': 1022.0, 'pressure_in': 30.18, 'precip_mm': 0.0, 'precip_in': 0.0, 'snow_cm': 0.0, 'humidity': 68, 'cloud': 7, 'feelslike_c': -3.1, 'feelslike_f': 26.3, 'windchill_c': -3.1, 'windchill_f': 26.3, 'heatindex_c': 0.8, 'heatindex_f': 33.5, 'dewpoint_c': -4.4, 'dewpoint_f': 24.2, 'will_it_rain': 0, 'chance_of_rain': 0, 'will_it_snow': 0, 'chance_of_snow': 0, 'vis_km': 10.0, 'vis_miles': 6.0, 'gust_mph': 14.6, 'gust_kph': 23.5, 'uv': 1.0}]}]}}\n"
     ]
    }
   ],
   "execution_count": 27
  },
  {
   "metadata": {},
   "cell_type": "markdown",
   "source": "## Train VARMA model",
   "id": "475f112c3d83c33"
  },
  {
   "metadata": {
    "ExecuteTime": {
     "end_time": "2024-04-11T23:32:28.868301Z",
     "start_time": "2024-04-11T23:32:28.142525Z"
    }
   },
   "cell_type": "code",
   "source": [
    "## TODO: Feed the retrieved data into the `data` variable.\n",
    "data = pd.DataFrame(np.random.rand(100, 3), columns=['var1', 'var2', 'var3'])\n",
    "\n",
    "model = VARMAX(data, order=(1, 1))\n",
    "model_fit = model.fit(disp=False)\n",
    "\n",
    "# make prediction\n",
    "yhat = model_fit.forecast(steps=1)\n",
    "print(yhat)\n"
   ],
   "id": "f7151353917b099c",
   "outputs": [
    {
     "name": "stderr",
     "output_type": "stream",
     "text": [
      "C:\\ProgramData\\anaconda3\\Lib\\site-packages\\statsmodels\\tsa\\statespace\\varmax.py:161: EstimationWarning: Estimation of VARMA(p,q) models is not generically robust, due especially to identification issues.\n",
      "  warn('Estimation of VARMA(p,q) models is not generically robust,'\n",
      "C:\\ProgramData\\anaconda3\\Lib\\site-packages\\statsmodels\\tsa\\statespace\\varmax.py:326: FutureWarning: DataFrame.fillna with 'method' is deprecated and will raise in a future version. Use obj.ffill() or obj.bfill() instead.\n",
      "  endog = np.require(endog.fillna(method='backfill'), requirements=\"W\")\n"
     ]
    },
    {
     "name": "stdout",
     "output_type": "stream",
     "text": [
      "        var1      var2      var3\n",
      "100  0.54521  0.469894  0.525041\n"
     ]
    },
    {
     "name": "stderr",
     "output_type": "stream",
     "text": [
      "C:\\ProgramData\\anaconda3\\Lib\\site-packages\\statsmodels\\base\\model.py:607: ConvergenceWarning: Maximum Likelihood optimization failed to converge. Check mle_retvals\n",
      "  warnings.warn(\"Maximum Likelihood optimization failed to \"\n"
     ]
    }
   ],
   "execution_count": 24
  }
 ],
 "metadata": {
  "kernelspec": {
   "display_name": "Python 3",
   "language": "python",
   "name": "python3"
  },
  "language_info": {
   "codemirror_mode": {
    "name": "ipython",
    "version": 2
   },
   "file_extension": ".py",
   "mimetype": "text/x-python",
   "name": "python",
   "nbconvert_exporter": "python",
   "pygments_lexer": "ipython2",
   "version": "2.7.6"
  }
 },
 "nbformat": 4,
 "nbformat_minor": 5
}
